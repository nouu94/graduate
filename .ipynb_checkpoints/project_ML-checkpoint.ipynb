{
 "cells": [
  {
   "cell_type": "code",
   "execution_count": 1,
   "metadata": {
    "ExecuteTime": {
     "end_time": "2020-11-19T12:30:42.887958Z",
     "start_time": "2020-11-19T12:30:42.423925Z"
    }
   },
   "outputs": [
    {
     "name": "stdout",
     "output_type": "stream",
     "text": [
      "['NanumGothic']\n"
     ]
    }
   ],
   "source": [
    "### matplotlib 폰트 한글로 바꾸는 법\n",
    "\n",
    "import matplotlib.pyplot as plt \n",
    "\n",
    "plt.rc('font', family = 'NanumGothic')\n",
    "print(plt.rcParams['font.family'])\n",
    "\n",
    "%matplotlib inline\n"
   ]
  },
  {
   "cell_type": "code",
   "execution_count": 2,
   "metadata": {
    "ExecuteTime": {
     "end_time": "2020-11-19T12:30:45.774170Z",
     "start_time": "2020-11-19T12:30:44.380069Z"
    }
   },
   "outputs": [
    {
     "name": "stdout",
     "output_type": "stream",
     "text": [
      "(148646, 11)\n"
     ]
    },
    {
     "data": {
      "text/html": [
       "<div>\n",
       "<style scoped>\n",
       "    .dataframe tbody tr th:only-of-type {\n",
       "        vertical-align: middle;\n",
       "    }\n",
       "\n",
       "    .dataframe tbody tr th {\n",
       "        vertical-align: top;\n",
       "    }\n",
       "\n",
       "    .dataframe thead th {\n",
       "        text-align: right;\n",
       "    }\n",
       "</style>\n",
       "<table border=\"1\" class=\"dataframe\">\n",
       "  <thead>\n",
       "    <tr style=\"text-align: right;\">\n",
       "      <th></th>\n",
       "      <th>거래금액</th>\n",
       "      <th>건축년도</th>\n",
       "      <th>년</th>\n",
       "      <th>법정동</th>\n",
       "      <th>아파트</th>\n",
       "      <th>월</th>\n",
       "      <th>일</th>\n",
       "      <th>전용면적</th>\n",
       "      <th>지번</th>\n",
       "      <th>지역코드</th>\n",
       "      <th>층</th>\n",
       "    </tr>\n",
       "  </thead>\n",
       "  <tbody>\n",
       "    <tr>\n",
       "      <th>0</th>\n",
       "      <td>17,300</td>\n",
       "      <td>2007</td>\n",
       "      <td>2019</td>\n",
       "      <td>인동</td>\n",
       "      <td>어진마을</td>\n",
       "      <td>1</td>\n",
       "      <td>1</td>\n",
       "      <td>59.440</td>\n",
       "      <td>353</td>\n",
       "      <td>30110</td>\n",
       "      <td>22</td>\n",
       "    </tr>\n",
       "    <tr>\n",
       "      <th>1</th>\n",
       "      <td>23,800</td>\n",
       "      <td>2018</td>\n",
       "      <td>2019</td>\n",
       "      <td>인동</td>\n",
       "      <td>담소루아파트</td>\n",
       "      <td>1</td>\n",
       "      <td>2</td>\n",
       "      <td>84.989</td>\n",
       "      <td>12-5</td>\n",
       "      <td>30110</td>\n",
       "      <td>9</td>\n",
       "    </tr>\n",
       "    <tr>\n",
       "      <th>2</th>\n",
       "      <td>23,800</td>\n",
       "      <td>2018</td>\n",
       "      <td>2019</td>\n",
       "      <td>인동</td>\n",
       "      <td>담소루아파트</td>\n",
       "      <td>1</td>\n",
       "      <td>2</td>\n",
       "      <td>84.393</td>\n",
       "      <td>12-5</td>\n",
       "      <td>30110</td>\n",
       "      <td>9</td>\n",
       "    </tr>\n",
       "    <tr>\n",
       "      <th>3</th>\n",
       "      <td>18,000</td>\n",
       "      <td>2007</td>\n",
       "      <td>2019</td>\n",
       "      <td>인동</td>\n",
       "      <td>어진마을</td>\n",
       "      <td>1</td>\n",
       "      <td>14</td>\n",
       "      <td>59.440</td>\n",
       "      <td>353</td>\n",
       "      <td>30110</td>\n",
       "      <td>13</td>\n",
       "    </tr>\n",
       "    <tr>\n",
       "      <th>4</th>\n",
       "      <td>17,300</td>\n",
       "      <td>2007</td>\n",
       "      <td>2019</td>\n",
       "      <td>인동</td>\n",
       "      <td>어진마을</td>\n",
       "      <td>1</td>\n",
       "      <td>17</td>\n",
       "      <td>59.440</td>\n",
       "      <td>353</td>\n",
       "      <td>30110</td>\n",
       "      <td>3</td>\n",
       "    </tr>\n",
       "  </tbody>\n",
       "</table>\n",
       "</div>"
      ],
      "text/plain": [
       "         거래금액  건축년도     년  법정동     아파트  월   일    전용면적    지번   지역코드   층\n",
       "0      17,300  2007  2019   인동    어진마을  1   1  59.440   353  30110  22\n",
       "1      23,800  2018  2019   인동  담소루아파트  1   2  84.989  12-5  30110   9\n",
       "2      23,800  2018  2019   인동  담소루아파트  1   2  84.393  12-5  30110   9\n",
       "3      18,000  2007  2019   인동    어진마을  1  14  59.440   353  30110  13\n",
       "4      17,300  2007  2019   인동    어진마을  1  17  59.440   353  30110   3"
      ]
     },
     "execution_count": 2,
     "metadata": {},
     "output_type": "execute_result"
    }
   ],
   "source": [
    "import requests \n",
    "from bs4 import BeautifulSoup\n",
    "import pandas as pd\n",
    "import matplotlib.pyplot as plt\n",
    "import seaborn as sns\n",
    "%matplotlib inline\n",
    "\n",
    "choongchung_df = pd.read_csv('choongchung.csv.')\n",
    "print(choongchung_df.shape)\n",
    "choongchung_df.head()\n",
    "\n",
    "# choongchung_df.drop(['지번'], axis = 1, inplace = True)"
   ]
  },
  {
   "cell_type": "markdown",
   "metadata": {},
   "source": [
    "## 데이터 가공작업"
   ]
  },
  {
   "cell_type": "markdown",
   "metadata": {},
   "source": [
    "#### 거래금액을 object객체에서 int형으로 변환"
   ]
  },
  {
   "cell_type": "code",
   "execution_count": null,
   "metadata": {},
   "outputs": [],
   "source": [
    "# def tradeConvertFunc(row_data) :\n",
    "#     if row_data['거래금액'][-4] == ',' :\n",
    "#         row_data['거래금액'] = row_data['거래금액'].replace(',', '')\n",
    "#     return row_data\n",
    "\n",
    "# choongchung_df = choongchung_df.apply(tradeConvertFunc, axis = 1)\n",
    "# choongchung_df = choongchung_df.astype({'거래금액' : 'int64'})\n",
    "\n",
    "# choongchung_df.info() \n"
   ]
  },
  {
   "cell_type": "code",
   "execution_count": 3,
   "metadata": {
    "ExecuteTime": {
     "end_time": "2020-11-19T12:30:48.826395Z",
     "start_time": "2020-11-19T12:30:48.702386Z"
    }
   },
   "outputs": [
    {
     "name": "stdout",
     "output_type": "stream",
     "text": [
      "지번으로 등록된 아파트 이름의 인덱스 [  3643  12536  12869  65658  99505 106013 136628 141624 141796 143123\n",
      " 146510 147866]\n"
     ]
    },
    {
     "data": {
      "text/plain": [
       "(148634, 11)"
      ]
     },
     "execution_count": 3,
     "metadata": {},
     "output_type": "execute_result"
    }
   ],
   "source": [
    "numbering_apartment_index = choongchung_df[choongchung_df['아파트'].str.contains('1028-0|408-7|458-0|543-18|1122-0|1088-1')].index\n",
    "print('지번으로 등록된 아파트 이름의 인덱스', numbering_apartment_index.values)\n",
    "\n",
    "choongchung_df.drop(numbering_apartment_index, axis = 0, inplace = True)\n",
    "choongchung_df.shape"
   ]
  },
  {
   "cell_type": "code",
   "execution_count": 4,
   "metadata": {
    "ExecuteTime": {
     "end_time": "2020-11-19T12:30:54.309799Z",
     "start_time": "2020-11-19T12:30:54.269796Z"
    }
   },
   "outputs": [
    {
     "name": "stdout",
     "output_type": "stream",
     "text": [
      "데이터 세트의 shape: (148634, 11)\n",
      "\n",
      "전체 피처의 type \n",
      " int64      6\n",
      "object     4\n",
      "float64    1\n",
      "dtype: int64\n",
      "\n",
      "거래금액    0\n",
      "건축년도    0\n",
      "년       0\n",
      "법정동     0\n",
      "아파트     0\n",
      "월       0\n",
      "일       0\n",
      "전용면적    0\n",
      "지번      0\n",
      "지역코드    0\n",
      "층       0\n",
      "dtype: int64\n"
     ]
    }
   ],
   "source": [
    "print('데이터 세트의 shape:', choongchung_df.shape)\n",
    "print('\\n전체 피처의 type \\n', choongchung_df.dtypes.value_counts(), end = '\\n\\n')\n",
    "isnull_series = choongchung_df.isnull().sum()\n",
    "print(isnull_series)"
   ]
  },
  {
   "cell_type": "code",
   "execution_count": 5,
   "metadata": {
    "ExecuteTime": {
     "end_time": "2020-11-19T12:31:15.935386Z",
     "start_time": "2020-11-19T12:30:58.141080Z"
    }
   },
   "outputs": [
    {
     "data": {
      "text/html": [
       "<div>\n",
       "<style scoped>\n",
       "    .dataframe tbody tr th:only-of-type {\n",
       "        vertical-align: middle;\n",
       "    }\n",
       "\n",
       "    .dataframe tbody tr th {\n",
       "        vertical-align: top;\n",
       "    }\n",
       "\n",
       "    .dataframe thead th {\n",
       "        text-align: right;\n",
       "    }\n",
       "</style>\n",
       "<table border=\"1\" class=\"dataframe\">\n",
       "  <thead>\n",
       "    <tr style=\"text-align: right;\">\n",
       "      <th></th>\n",
       "      <th>거래금액</th>\n",
       "      <th>건축년도</th>\n",
       "      <th>년</th>\n",
       "      <th>법정동</th>\n",
       "      <th>아파트</th>\n",
       "      <th>월</th>\n",
       "      <th>일</th>\n",
       "      <th>전용면적</th>\n",
       "      <th>지번</th>\n",
       "      <th>지역코드</th>\n",
       "      <th>층</th>\n",
       "    </tr>\n",
       "  </thead>\n",
       "  <tbody>\n",
       "    <tr>\n",
       "      <th>0</th>\n",
       "      <td>17300</td>\n",
       "      <td>2007</td>\n",
       "      <td>2019</td>\n",
       "      <td>인동</td>\n",
       "      <td>어진마을</td>\n",
       "      <td>1</td>\n",
       "      <td>1</td>\n",
       "      <td>59.440</td>\n",
       "      <td>353</td>\n",
       "      <td>30110</td>\n",
       "      <td>22</td>\n",
       "    </tr>\n",
       "    <tr>\n",
       "      <th>1</th>\n",
       "      <td>23800</td>\n",
       "      <td>2018</td>\n",
       "      <td>2019</td>\n",
       "      <td>인동</td>\n",
       "      <td>담소루아파트</td>\n",
       "      <td>1</td>\n",
       "      <td>2</td>\n",
       "      <td>84.989</td>\n",
       "      <td>12-5</td>\n",
       "      <td>30110</td>\n",
       "      <td>9</td>\n",
       "    </tr>\n",
       "    <tr>\n",
       "      <th>2</th>\n",
       "      <td>23800</td>\n",
       "      <td>2018</td>\n",
       "      <td>2019</td>\n",
       "      <td>인동</td>\n",
       "      <td>담소루아파트</td>\n",
       "      <td>1</td>\n",
       "      <td>2</td>\n",
       "      <td>84.393</td>\n",
       "      <td>12-5</td>\n",
       "      <td>30110</td>\n",
       "      <td>9</td>\n",
       "    </tr>\n",
       "    <tr>\n",
       "      <th>3</th>\n",
       "      <td>18000</td>\n",
       "      <td>2007</td>\n",
       "      <td>2019</td>\n",
       "      <td>인동</td>\n",
       "      <td>어진마을</td>\n",
       "      <td>1</td>\n",
       "      <td>14</td>\n",
       "      <td>59.440</td>\n",
       "      <td>353</td>\n",
       "      <td>30110</td>\n",
       "      <td>13</td>\n",
       "    </tr>\n",
       "    <tr>\n",
       "      <th>4</th>\n",
       "      <td>17300</td>\n",
       "      <td>2007</td>\n",
       "      <td>2019</td>\n",
       "      <td>인동</td>\n",
       "      <td>어진마을</td>\n",
       "      <td>1</td>\n",
       "      <td>17</td>\n",
       "      <td>59.440</td>\n",
       "      <td>353</td>\n",
       "      <td>30110</td>\n",
       "      <td>3</td>\n",
       "    </tr>\n",
       "  </tbody>\n",
       "</table>\n",
       "</div>"
      ],
      "text/plain": [
       "    거래금액  건축년도     년  법정동     아파트  월   일    전용면적    지번   지역코드   층\n",
       "0  17300  2007  2019   인동    어진마을  1   1  59.440   353  30110  22\n",
       "1  23800  2018  2019   인동  담소루아파트  1   2  84.989  12-5  30110   9\n",
       "2  23800  2018  2019   인동  담소루아파트  1   2  84.393  12-5  30110   9\n",
       "3  18000  2007  2019   인동    어진마을  1  14  59.440   353  30110  13\n",
       "4  17300  2007  2019   인동    어진마을  1  17  59.440   353  30110   3"
      ]
     },
     "execution_count": 5,
     "metadata": {},
     "output_type": "execute_result"
    }
   ],
   "source": [
    "def trade_convert_func(row_data) :\n",
    "#     if row_data['거래금액'][-4] == ',' :\n",
    "    row_data['거래금액'] = row_data['거래금액'].replace(',', '')\n",
    "    return row_data\n",
    "\n",
    "choongchung_df = choongchung_df.apply(trade_convert_func, axis = 1)\n",
    "\n",
    "choongchung_df = choongchung_df.astype({'거래금액' : 'int64'})\n",
    "choongchung_df.head()"
   ]
  },
  {
   "cell_type": "code",
   "execution_count": 6,
   "metadata": {
    "ExecuteTime": {
     "end_time": "2020-11-19T12:31:17.861528Z",
     "start_time": "2020-11-19T12:31:17.845528Z"
    }
   },
   "outputs": [],
   "source": [
    "choongchung_df2 = choongchung_df.copy()"
   ]
  },
  {
   "cell_type": "code",
   "execution_count": 7,
   "metadata": {
    "ExecuteTime": {
     "end_time": "2020-11-19T12:31:20.045688Z",
     "start_time": "2020-11-19T12:31:19.726668Z"
    }
   },
   "outputs": [
    {
     "data": {
      "text/plain": [
       "<matplotlib.axes._subplots.AxesSubplot at 0x1fe727d8e20>"
      ]
     },
     "execution_count": 7,
     "metadata": {},
     "output_type": "execute_result"
    },
    {
     "data": {
      "image/png": "[encoded data removed]",
      "text/plain": [
       "<Figure size 432x288 with 1 Axes>"
      ]
     },
     "metadata": {
      "needs_background": "light"
     },
     "output_type": "display_data"
    }
   ],
   "source": [
    "import warnings\n",
    "warnings.filterwarnings('ignore')\n",
    "import numpy as np\n",
    "import seaborn as sns\n",
    "import matplotlib.pyplot as plt\n",
    "%matplotlib inline \n",
    "\n",
    "plt.title('Original Apartment Price Histogram')\n",
    "sns.distplot(choongchung_df['거래금액'])"
   ]
  },
  {
   "cell_type": "markdown",
   "metadata": {},
   "source": [
    "#### 현재 타겟 데이터의 분포를 보면 정규분포 형태가 아닌 왼쪽으로 치우친 skewd 형태로 되어있다. \n",
    "#### 이는 예측 성능의 부정적인 영향을 미칠 가능성이 높다."
   ]
  },
  {
   "cell_type": "code",
   "execution_count": 8,
   "metadata": {
    "ExecuteTime": {
     "end_time": "2020-11-19T12:31:22.245850Z",
     "start_time": "2020-11-19T12:31:21.961830Z"
    }
   },
   "outputs": [
    {
     "data": {
      "text/plain": [
       "<matplotlib.axes._subplots.AxesSubplot at 0x1fe7274c790>"
      ]
     },
     "execution_count": 8,
     "metadata": {},
     "output_type": "execute_result"
    },
    {
     "data": {
      "image/png": "[encoded data removed]",
      "text/plain": [
       "<Figure size 432x288 with 1 Axes>"
      ]
     },
     "metadata": {
      "needs_background": "light"
     },
     "output_type": "display_data"
    }
   ],
   "source": [
    "plt.title('Log Converted Apartment Price Histogram')\n",
    "log_Price = np.log1p(choongchung_df['거래금액'])\n",
    "sns.distplot(log_Price)"
   ]
  },
  {
   "cell_type": "code",
   "execution_count": 9,
   "metadata": {
    "ExecuteTime": {
     "end_time": "2020-11-19T12:31:24.292000Z",
     "start_time": "2020-11-19T12:31:24.269001Z"
    }
   },
   "outputs": [
    {
     "data": {
      "text/html": [
       "<div>\n",
       "<style scoped>\n",
       "    .dataframe tbody tr th:only-of-type {\n",
       "        vertical-align: middle;\n",
       "    }\n",
       "\n",
       "    .dataframe tbody tr th {\n",
       "        vertical-align: top;\n",
       "    }\n",
       "\n",
       "    .dataframe thead th {\n",
       "        text-align: right;\n",
       "    }\n",
       "</style>\n",
       "<table border=\"1\" class=\"dataframe\">\n",
       "  <thead>\n",
       "    <tr style=\"text-align: right;\">\n",
       "      <th></th>\n",
       "      <th>거래금액</th>\n",
       "      <th>건축년도</th>\n",
       "      <th>년</th>\n",
       "      <th>법정동</th>\n",
       "      <th>아파트</th>\n",
       "      <th>월</th>\n",
       "      <th>일</th>\n",
       "      <th>전용면적</th>\n",
       "      <th>지번</th>\n",
       "      <th>지역코드</th>\n",
       "      <th>층</th>\n",
       "    </tr>\n",
       "  </thead>\n",
       "  <tbody>\n",
       "    <tr>\n",
       "      <th>0</th>\n",
       "      <td>9.758520</td>\n",
       "      <td>2007</td>\n",
       "      <td>2019</td>\n",
       "      <td>인동</td>\n",
       "      <td>어진마을</td>\n",
       "      <td>1</td>\n",
       "      <td>1</td>\n",
       "      <td>59.440</td>\n",
       "      <td>353</td>\n",
       "      <td>30110</td>\n",
       "      <td>22</td>\n",
       "    </tr>\n",
       "    <tr>\n",
       "      <th>1</th>\n",
       "      <td>10.077483</td>\n",
       "      <td>2018</td>\n",
       "      <td>2019</td>\n",
       "      <td>인동</td>\n",
       "      <td>담소루아파트</td>\n",
       "      <td>1</td>\n",
       "      <td>2</td>\n",
       "      <td>84.989</td>\n",
       "      <td>12-5</td>\n",
       "      <td>30110</td>\n",
       "      <td>9</td>\n",
       "    </tr>\n",
       "    <tr>\n",
       "      <th>2</th>\n",
       "      <td>10.077483</td>\n",
       "      <td>2018</td>\n",
       "      <td>2019</td>\n",
       "      <td>인동</td>\n",
       "      <td>담소루아파트</td>\n",
       "      <td>1</td>\n",
       "      <td>2</td>\n",
       "      <td>84.393</td>\n",
       "      <td>12-5</td>\n",
       "      <td>30110</td>\n",
       "      <td>9</td>\n",
       "    </tr>\n",
       "    <tr>\n",
       "      <th>3</th>\n",
       "      <td>9.798183</td>\n",
       "      <td>2007</td>\n",
       "      <td>2019</td>\n",
       "      <td>인동</td>\n",
       "      <td>어진마을</td>\n",
       "      <td>1</td>\n",
       "      <td>14</td>\n",
       "      <td>59.440</td>\n",
       "      <td>353</td>\n",
       "      <td>30110</td>\n",
       "      <td>13</td>\n",
       "    </tr>\n",
       "    <tr>\n",
       "      <th>4</th>\n",
       "      <td>9.758520</td>\n",
       "      <td>2007</td>\n",
       "      <td>2019</td>\n",
       "      <td>인동</td>\n",
       "      <td>어진마을</td>\n",
       "      <td>1</td>\n",
       "      <td>17</td>\n",
       "      <td>59.440</td>\n",
       "      <td>353</td>\n",
       "      <td>30110</td>\n",
       "      <td>3</td>\n",
       "    </tr>\n",
       "  </tbody>\n",
       "</table>\n",
       "</div>"
      ],
      "text/plain": [
       "        거래금액  건축년도     년  법정동     아파트  월   일    전용면적    지번   지역코드   층\n",
       "0   9.758520  2007  2019   인동    어진마을  1   1  59.440   353  30110  22\n",
       "1  10.077483  2018  2019   인동  담소루아파트  1   2  84.989  12-5  30110   9\n",
       "2  10.077483  2018  2019   인동  담소루아파트  1   2  84.393  12-5  30110   9\n",
       "3   9.798183  2007  2019   인동    어진마을  1  14  59.440   353  30110  13\n",
       "4   9.758520  2007  2019   인동    어진마을  1  17  59.440   353  30110   3"
      ]
     },
     "execution_count": 9,
     "metadata": {},
     "output_type": "execute_result"
    }
   ],
   "source": [
    "choongchung_df['거래금액'] = np.log1p(choongchung_df['거래금액'])\n",
    "choongchung_df.head()"
   ]
  },
  {
   "cell_type": "code",
   "execution_count": 10,
   "metadata": {
    "ExecuteTime": {
     "end_time": "2020-11-19T12:32:34.253141Z",
     "start_time": "2020-11-19T12:31:26.427159Z"
    }
   },
   "outputs": [
    {
     "data": {
      "image/png": "[encoded data removed]",
      "text/plain": [
       "<Figure size 1440x720 with 8 Axes>"
      ]
     },
     "metadata": {
      "needs_background": "light"
     },
     "output_type": "display_data"
    }
   ],
   "source": [
    "fig, axs = plt.subplots(figsize = (20, 10), ncols = 4, nrows = 2)\n",
    "num_features = ['건축년도', '년', '월', '일', '전용면적', '지역코드', '층']\n",
    "for i, feature in enumerate(num_features) :\n",
    "    row = int(i/4)\n",
    "    col = i%4\n",
    "    \n",
    "    sns.regplot(x = feature, y = choongchung_df2['거래금액'], data = choongchung_df2, ax=axs[row][col] )"
   ]
  },
  {
   "cell_type": "code",
   "execution_count": 11,
   "metadata": {
    "ExecuteTime": {
     "end_time": "2020-11-19T12:32:42.961781Z",
     "start_time": "2020-11-19T12:32:37.052349Z"
    },
    "scrolled": false
   },
   "outputs": [
    {
     "data": {
      "text/html": [
       "<div>\n",
       "<style scoped>\n",
       "    .dataframe tbody tr th:only-of-type {\n",
       "        vertical-align: middle;\n",
       "    }\n",
       "\n",
       "    .dataframe tbody tr th {\n",
       "        vertical-align: top;\n",
       "    }\n",
       "\n",
       "    .dataframe thead th {\n",
       "        text-align: right;\n",
       "    }\n",
       "</style>\n",
       "<table border=\"1\" class=\"dataframe\">\n",
       "  <thead>\n",
       "    <tr style=\"text-align: right;\">\n",
       "      <th></th>\n",
       "      <th>건축년도</th>\n",
       "      <th>전용면적</th>\n",
       "      <th>층</th>\n",
       "      <th>년_2019</th>\n",
       "      <th>년_2020</th>\n",
       "      <th>법정동_ 가경동</th>\n",
       "      <th>법정동_ 가수원동</th>\n",
       "      <th>법정동_ 가양동</th>\n",
       "      <th>법정동_ 가오동</th>\n",
       "      <th>법정동_ 가장동</th>\n",
       "      <th>...</th>\n",
       "      <th>지역코드_44230</th>\n",
       "      <th>지역코드_44250</th>\n",
       "      <th>지역코드_44270</th>\n",
       "      <th>지역코드_44710</th>\n",
       "      <th>지역코드_44760</th>\n",
       "      <th>지역코드_44770</th>\n",
       "      <th>지역코드_44790</th>\n",
       "      <th>지역코드_44800</th>\n",
       "      <th>지역코드_44810</th>\n",
       "      <th>지역코드_44825</th>\n",
       "    </tr>\n",
       "  </thead>\n",
       "  <tbody>\n",
       "    <tr>\n",
       "      <th>0</th>\n",
       "      <td>2007</td>\n",
       "      <td>59.440</td>\n",
       "      <td>22</td>\n",
       "      <td>1</td>\n",
       "      <td>0</td>\n",
       "      <td>0</td>\n",
       "      <td>0</td>\n",
       "      <td>0</td>\n",
       "      <td>0</td>\n",
       "      <td>0</td>\n",
       "      <td>...</td>\n",
       "      <td>0</td>\n",
       "      <td>0</td>\n",
       "      <td>0</td>\n",
       "      <td>0</td>\n",
       "      <td>0</td>\n",
       "      <td>0</td>\n",
       "      <td>0</td>\n",
       "      <td>0</td>\n",
       "      <td>0</td>\n",
       "      <td>0</td>\n",
       "    </tr>\n",
       "    <tr>\n",
       "      <th>1</th>\n",
       "      <td>2018</td>\n",
       "      <td>84.989</td>\n",
       "      <td>9</td>\n",
       "      <td>1</td>\n",
       "      <td>0</td>\n",
       "      <td>0</td>\n",
       "      <td>0</td>\n",
       "      <td>0</td>\n",
       "      <td>0</td>\n",
       "      <td>0</td>\n",
       "      <td>...</td>\n",
       "      <td>0</td>\n",
       "      <td>0</td>\n",
       "      <td>0</td>\n",
       "      <td>0</td>\n",
       "      <td>0</td>\n",
       "      <td>0</td>\n",
       "      <td>0</td>\n",
       "      <td>0</td>\n",
       "      <td>0</td>\n",
       "      <td>0</td>\n",
       "    </tr>\n",
       "    <tr>\n",
       "      <th>2</th>\n",
       "      <td>2018</td>\n",
       "      <td>84.393</td>\n",
       "      <td>9</td>\n",
       "      <td>1</td>\n",
       "      <td>0</td>\n",
       "      <td>0</td>\n",
       "      <td>0</td>\n",
       "      <td>0</td>\n",
       "      <td>0</td>\n",
       "      <td>0</td>\n",
       "      <td>...</td>\n",
       "      <td>0</td>\n",
       "      <td>0</td>\n",
       "      <td>0</td>\n",
       "      <td>0</td>\n",
       "      <td>0</td>\n",
       "      <td>0</td>\n",
       "      <td>0</td>\n",
       "      <td>0</td>\n",
       "      <td>0</td>\n",
       "      <td>0</td>\n",
       "    </tr>\n",
       "    <tr>\n",
       "      <th>3</th>\n",
       "      <td>2007</td>\n",
       "      <td>59.440</td>\n",
       "      <td>13</td>\n",
       "      <td>1</td>\n",
       "      <td>0</td>\n",
       "      <td>0</td>\n",
       "      <td>0</td>\n",
       "      <td>0</td>\n",
       "      <td>0</td>\n",
       "      <td>0</td>\n",
       "      <td>...</td>\n",
       "      <td>0</td>\n",
       "      <td>0</td>\n",
       "      <td>0</td>\n",
       "      <td>0</td>\n",
       "      <td>0</td>\n",
       "      <td>0</td>\n",
       "      <td>0</td>\n",
       "      <td>0</td>\n",
       "      <td>0</td>\n",
       "      <td>0</td>\n",
       "    </tr>\n",
       "    <tr>\n",
       "      <th>4</th>\n",
       "      <td>2007</td>\n",
       "      <td>59.440</td>\n",
       "      <td>3</td>\n",
       "      <td>1</td>\n",
       "      <td>0</td>\n",
       "      <td>0</td>\n",
       "      <td>0</td>\n",
       "      <td>0</td>\n",
       "      <td>0</td>\n",
       "      <td>0</td>\n",
       "      <td>...</td>\n",
       "      <td>0</td>\n",
       "      <td>0</td>\n",
       "      <td>0</td>\n",
       "      <td>0</td>\n",
       "      <td>0</td>\n",
       "      <td>0</td>\n",
       "      <td>0</td>\n",
       "      <td>0</td>\n",
       "      <td>0</td>\n",
       "      <td>0</td>\n",
       "    </tr>\n",
       "  </tbody>\n",
       "</table>\n",
       "<p>5 rows × 5818 columns</p>\n",
       "</div>"
      ],
      "text/plain": [
       "   건축년도    전용면적   층  년_2019  년_2020  법정동_ 가경동  법정동_ 가수원동  법정동_ 가양동  법정동_ 가오동  \\\n",
       "0  2007  59.440  22       1       0         0          0         0         0   \n",
       "1  2018  84.989   9       1       0         0          0         0         0   \n",
       "2  2018  84.393   9       1       0         0          0         0         0   \n",
       "3  2007  59.440  13       1       0         0          0         0         0   \n",
       "4  2007  59.440   3       1       0         0          0         0         0   \n",
       "\n",
       "   법정동_ 가장동  ...  지역코드_44230  지역코드_44250  지역코드_44270  지역코드_44710  지역코드_44760  \\\n",
       "0         0  ...           0           0           0           0           0   \n",
       "1         0  ...           0           0           0           0           0   \n",
       "2         0  ...           0           0           0           0           0   \n",
       "3         0  ...           0           0           0           0           0   \n",
       "4         0  ...           0           0           0           0           0   \n",
       "\n",
       "   지역코드_44770  지역코드_44790  지역코드_44800  지역코드_44810  지역코드_44825  \n",
       "0           0           0           0           0           0  \n",
       "1           0           0           0           0           0  \n",
       "2           0           0           0           0           0  \n",
       "3           0           0           0           0           0  \n",
       "4           0           0           0           0           0  \n",
       "\n",
       "[5 rows x 5818 columns]"
      ]
     },
     "execution_count": 11,
     "metadata": {},
     "output_type": "execute_result"
    }
   ],
   "source": [
    "## one-hot-encoding \n",
    "\n",
    "x_features = choongchung_df.drop('거래금액', axis = 1)\n",
    "x_features_ohe = pd.get_dummies(x_features, columns = ['년', '법정동', '아파트', '월', '일', '지번', '지역코드'])\n",
    "y_target = choongchung_df['거래금액']\n",
    "x_features_ohe.head()"
   ]
  },
  {
   "cell_type": "markdown",
   "metadata": {},
   "source": [
    "## LinearRegression 모델 예측 및 평가"
   ]
  },
  {
   "cell_type": "code",
   "execution_count": 12,
   "metadata": {
    "ExecuteTime": {
     "end_time": "2020-11-19T12:35:24.273633Z",
     "start_time": "2020-11-19T12:32:45.406962Z"
    },
    "scrolled": true
   },
   "outputs": [
    {
     "ename": "ValueError",
     "evalue": "Input contains NaN, infinity or a value too large for dtype('float64').",
     "output_type": "error",
     "traceback": [
      "\u001b[1;31m---------------------------------------------------------------------------\u001b[0m",
      "\u001b[1;31mValueError\u001b[0m                                Traceback (most recent call last)",
      "\u001b[1;32m<ipython-input-12-4470fa7165f5>\u001b[0m in \u001b[0;36m<module>\u001b[1;34m\u001b[0m\n\u001b[0;32m     13\u001b[0m \u001b[0mpred_exp\u001b[0m \u001b[1;33m=\u001b[0m \u001b[0mnp\u001b[0m\u001b[1;33m.\u001b[0m\u001b[0mexpm1\u001b[0m\u001b[1;33m(\u001b[0m\u001b[0mpred\u001b[0m\u001b[1;33m)\u001b[0m\u001b[1;33m\u001b[0m\u001b[1;33m\u001b[0m\u001b[0m\n\u001b[0;32m     14\u001b[0m \u001b[1;33m\u001b[0m\u001b[0m\n\u001b[1;32m---> 15\u001b[1;33m \u001b[0mmae\u001b[0m \u001b[1;33m=\u001b[0m \u001b[0mmean_absolute_error\u001b[0m\u001b[1;33m(\u001b[0m\u001b[0my_test_exp\u001b[0m\u001b[1;33m,\u001b[0m \u001b[0mpred_exp\u001b[0m\u001b[1;33m)\u001b[0m\u001b[1;33m\u001b[0m\u001b[1;33m\u001b[0m\u001b[0m\n\u001b[0m\u001b[0;32m     16\u001b[0m \u001b[0mmse\u001b[0m \u001b[1;33m=\u001b[0m \u001b[0mmean_squared_error\u001b[0m\u001b[1;33m(\u001b[0m\u001b[0my_test_exp\u001b[0m\u001b[1;33m,\u001b[0m \u001b[0mpred_exp\u001b[0m\u001b[1;33m)\u001b[0m\u001b[1;33m\u001b[0m\u001b[1;33m\u001b[0m\u001b[0m\n\u001b[0;32m     17\u001b[0m \u001b[0mrmse\u001b[0m \u001b[1;33m=\u001b[0m \u001b[0mnp\u001b[0m\u001b[1;33m.\u001b[0m\u001b[0msqrt\u001b[0m\u001b[1;33m(\u001b[0m\u001b[0mmse\u001b[0m\u001b[1;33m)\u001b[0m\u001b[1;33m\u001b[0m\u001b[1;33m\u001b[0m\u001b[0m\n",
      "\u001b[1;32mC:\\ProgramData\\Anaconda3\\lib\\site-packages\\sklearn\\utils\\validation.py\u001b[0m in \u001b[0;36minner_f\u001b[1;34m(*args, **kwargs)\u001b[0m\n\u001b[0;32m     71\u001b[0m                           FutureWarning)\n\u001b[0;32m     72\u001b[0m         \u001b[0mkwargs\u001b[0m\u001b[1;33m.\u001b[0m\u001b[0mupdate\u001b[0m\u001b[1;33m(\u001b[0m\u001b[1;33m{\u001b[0m\u001b[0mk\u001b[0m\u001b[1;33m:\u001b[0m \u001b[0marg\u001b[0m \u001b[1;32mfor\u001b[0m \u001b[0mk\u001b[0m\u001b[1;33m,\u001b[0m \u001b[0marg\u001b[0m \u001b[1;32min\u001b[0m \u001b[0mzip\u001b[0m\u001b[1;33m(\u001b[0m\u001b[0msig\u001b[0m\u001b[1;33m.\u001b[0m\u001b[0mparameters\u001b[0m\u001b[1;33m,\u001b[0m \u001b[0margs\u001b[0m\u001b[1;33m)\u001b[0m\u001b[1;33m}\u001b[0m\u001b[1;33m)\u001b[0m\u001b[1;33m\u001b[0m\u001b[1;33m\u001b[0m\u001b[0m\n\u001b[1;32m---> 73\u001b[1;33m         \u001b[1;32mreturn\u001b[0m \u001b[0mf\u001b[0m\u001b[1;33m(\u001b[0m\u001b[1;33m**\u001b[0m\u001b[0mkwargs\u001b[0m\u001b[1;33m)\u001b[0m\u001b[1;33m\u001b[0m\u001b[1;33m\u001b[0m\u001b[0m\n\u001b[0m\u001b[0;32m     74\u001b[0m     \u001b[1;32mreturn\u001b[0m \u001b[0minner_f\u001b[0m\u001b[1;33m\u001b[0m\u001b[1;33m\u001b[0m\u001b[0m\n\u001b[0;32m     75\u001b[0m \u001b[1;33m\u001b[0m\u001b[0m\n",
      "\u001b[1;32mC:\\ProgramData\\Anaconda3\\lib\\site-packages\\sklearn\\metrics\\_regression.py\u001b[0m in \u001b[0;36mmean_absolute_error\u001b[1;34m(y_true, y_pred, sample_weight, multioutput)\u001b[0m\n\u001b[0;32m    176\u001b[0m     \u001b[1;36m0.85\u001b[0m\u001b[1;33m...\u001b[0m\u001b[1;33m\u001b[0m\u001b[1;33m\u001b[0m\u001b[0m\n\u001b[0;32m    177\u001b[0m     \"\"\"\n\u001b[1;32m--> 178\u001b[1;33m     y_type, y_true, y_pred, multioutput = _check_reg_targets(\n\u001b[0m\u001b[0;32m    179\u001b[0m         y_true, y_pred, multioutput)\n\u001b[0;32m    180\u001b[0m     \u001b[0mcheck_consistent_length\u001b[0m\u001b[1;33m(\u001b[0m\u001b[0my_true\u001b[0m\u001b[1;33m,\u001b[0m \u001b[0my_pred\u001b[0m\u001b[1;33m,\u001b[0m \u001b[0msample_weight\u001b[0m\u001b[1;33m)\u001b[0m\u001b[1;33m\u001b[0m\u001b[1;33m\u001b[0m\u001b[0m\n",
      "\u001b[1;32mC:\\ProgramData\\Anaconda3\\lib\\site-packages\\sklearn\\metrics\\_regression.py\u001b[0m in \u001b[0;36m_check_reg_targets\u001b[1;34m(y_true, y_pred, multioutput, dtype)\u001b[0m\n\u001b[0;32m     84\u001b[0m     \u001b[0mcheck_consistent_length\u001b[0m\u001b[1;33m(\u001b[0m\u001b[0my_true\u001b[0m\u001b[1;33m,\u001b[0m \u001b[0my_pred\u001b[0m\u001b[1;33m)\u001b[0m\u001b[1;33m\u001b[0m\u001b[1;33m\u001b[0m\u001b[0m\n\u001b[0;32m     85\u001b[0m     \u001b[0my_true\u001b[0m \u001b[1;33m=\u001b[0m \u001b[0mcheck_array\u001b[0m\u001b[1;33m(\u001b[0m\u001b[0my_true\u001b[0m\u001b[1;33m,\u001b[0m \u001b[0mensure_2d\u001b[0m\u001b[1;33m=\u001b[0m\u001b[1;32mFalse\u001b[0m\u001b[1;33m,\u001b[0m \u001b[0mdtype\u001b[0m\u001b[1;33m=\u001b[0m\u001b[0mdtype\u001b[0m\u001b[1;33m)\u001b[0m\u001b[1;33m\u001b[0m\u001b[1;33m\u001b[0m\u001b[0m\n\u001b[1;32m---> 86\u001b[1;33m     \u001b[0my_pred\u001b[0m \u001b[1;33m=\u001b[0m \u001b[0mcheck_array\u001b[0m\u001b[1;33m(\u001b[0m\u001b[0my_pred\u001b[0m\u001b[1;33m,\u001b[0m \u001b[0mensure_2d\u001b[0m\u001b[1;33m=\u001b[0m\u001b[1;32mFalse\u001b[0m\u001b[1;33m,\u001b[0m \u001b[0mdtype\u001b[0m\u001b[1;33m=\u001b[0m\u001b[0mdtype\u001b[0m\u001b[1;33m)\u001b[0m\u001b[1;33m\u001b[0m\u001b[1;33m\u001b[0m\u001b[0m\n\u001b[0m\u001b[0;32m     87\u001b[0m \u001b[1;33m\u001b[0m\u001b[0m\n\u001b[0;32m     88\u001b[0m     \u001b[1;32mif\u001b[0m \u001b[0my_true\u001b[0m\u001b[1;33m.\u001b[0m\u001b[0mndim\u001b[0m \u001b[1;33m==\u001b[0m \u001b[1;36m1\u001b[0m\u001b[1;33m:\u001b[0m\u001b[1;33m\u001b[0m\u001b[1;33m\u001b[0m\u001b[0m\n",
      "\u001b[1;32mC:\\ProgramData\\Anaconda3\\lib\\site-packages\\sklearn\\utils\\validation.py\u001b[0m in \u001b[0;36minner_f\u001b[1;34m(*args, **kwargs)\u001b[0m\n\u001b[0;32m     71\u001b[0m                           FutureWarning)\n\u001b[0;32m     72\u001b[0m         \u001b[0mkwargs\u001b[0m\u001b[1;33m.\u001b[0m\u001b[0mupdate\u001b[0m\u001b[1;33m(\u001b[0m\u001b[1;33m{\u001b[0m\u001b[0mk\u001b[0m\u001b[1;33m:\u001b[0m \u001b[0marg\u001b[0m \u001b[1;32mfor\u001b[0m \u001b[0mk\u001b[0m\u001b[1;33m,\u001b[0m \u001b[0marg\u001b[0m \u001b[1;32min\u001b[0m \u001b[0mzip\u001b[0m\u001b[1;33m(\u001b[0m\u001b[0msig\u001b[0m\u001b[1;33m.\u001b[0m\u001b[0mparameters\u001b[0m\u001b[1;33m,\u001b[0m \u001b[0margs\u001b[0m\u001b[1;33m)\u001b[0m\u001b[1;33m}\u001b[0m\u001b[1;33m)\u001b[0m\u001b[1;33m\u001b[0m\u001b[1;33m\u001b[0m\u001b[0m\n\u001b[1;32m---> 73\u001b[1;33m         \u001b[1;32mreturn\u001b[0m \u001b[0mf\u001b[0m\u001b[1;33m(\u001b[0m\u001b[1;33m**\u001b[0m\u001b[0mkwargs\u001b[0m\u001b[1;33m)\u001b[0m\u001b[1;33m\u001b[0m\u001b[1;33m\u001b[0m\u001b[0m\n\u001b[0m\u001b[0;32m     74\u001b[0m     \u001b[1;32mreturn\u001b[0m \u001b[0minner_f\u001b[0m\u001b[1;33m\u001b[0m\u001b[1;33m\u001b[0m\u001b[0m\n\u001b[0;32m     75\u001b[0m \u001b[1;33m\u001b[0m\u001b[0m\n",
      "\u001b[1;32mC:\\ProgramData\\Anaconda3\\lib\\site-packages\\sklearn\\utils\\validation.py\u001b[0m in \u001b[0;36mcheck_array\u001b[1;34m(array, accept_sparse, accept_large_sparse, dtype, order, copy, force_all_finite, ensure_2d, allow_nd, ensure_min_samples, ensure_min_features, estimator)\u001b[0m\n\u001b[0;32m    643\u001b[0m \u001b[1;33m\u001b[0m\u001b[0m\n\u001b[0;32m    644\u001b[0m         \u001b[1;32mif\u001b[0m \u001b[0mforce_all_finite\u001b[0m\u001b[1;33m:\u001b[0m\u001b[1;33m\u001b[0m\u001b[1;33m\u001b[0m\u001b[0m\n\u001b[1;32m--> 645\u001b[1;33m             _assert_all_finite(array,\n\u001b[0m\u001b[0;32m    646\u001b[0m                                allow_nan=force_all_finite == 'allow-nan')\n\u001b[0;32m    647\u001b[0m \u001b[1;33m\u001b[0m\u001b[0m\n",
      "\u001b[1;32mC:\\ProgramData\\Anaconda3\\lib\\site-packages\\sklearn\\utils\\validation.py\u001b[0m in \u001b[0;36m_assert_all_finite\u001b[1;34m(X, allow_nan, msg_dtype)\u001b[0m\n\u001b[0;32m     95\u001b[0m                 not allow_nan and not np.isfinite(X).all()):\n\u001b[0;32m     96\u001b[0m             \u001b[0mtype_err\u001b[0m \u001b[1;33m=\u001b[0m \u001b[1;34m'infinity'\u001b[0m \u001b[1;32mif\u001b[0m \u001b[0mallow_nan\u001b[0m \u001b[1;32melse\u001b[0m \u001b[1;34m'NaN, infinity'\u001b[0m\u001b[1;33m\u001b[0m\u001b[1;33m\u001b[0m\u001b[0m\n\u001b[1;32m---> 97\u001b[1;33m             raise ValueError(\n\u001b[0m\u001b[0;32m     98\u001b[0m                     \u001b[0mmsg_err\u001b[0m\u001b[1;33m.\u001b[0m\u001b[0mformat\u001b[0m\u001b[1;33m\u001b[0m\u001b[1;33m\u001b[0m\u001b[0m\n\u001b[0;32m     99\u001b[0m                     (type_err,\n",
      "\u001b[1;31mValueError\u001b[0m: Input contains NaN, infinity or a value too large for dtype('float64')."
     ]
    }
   ],
   "source": [
    "from sklearn.linear_model import LinearRegression, Ridge, Lasso, ElasticNet\n",
    "from sklearn.model_selection import train_test_split\n",
    "from sklearn.metrics import mean_squared_error, mean_absolute_error\n",
    "\n",
    "\n",
    "x_train, x_test, y_train, y_test = train_test_split(x_features_ohe, y_target, test_size = 0.3)\n",
    "\n",
    "lr_reg = LinearRegression()\n",
    "lr_reg.fit(x_train, y_train)\n",
    "pred = lr_reg.predict(x_test)\n",
    "\n",
    "y_test_exp = np.expm1(y_test)\n",
    "pred_exp = np.expm1(pred)\n",
    "\n",
    "mae = mean_absolute_error(y_test_exp, pred_exp)\n",
    "mse = mean_squared_error(y_test_exp, pred_exp)\n",
    "rmse = np.sqrt(mse)\n",
    "print(mae, rmse)"
   ]
  },
  {
   "cell_type": "code",
   "execution_count": null,
   "metadata": {
    "ExecuteTime": {
     "end_time": "2020-10-28T04:41:17.263080Z",
     "start_time": "2020-10-28T04:41:17.205077Z"
    }
   },
   "outputs": [],
   "source": [
    "# 실제 거래금액 - 예측한 거래금액의 차이를 내림차순으로 표현\n",
    "result_df = pd.DataFrame(np.expm1(y_test.values), columns = ['실제_거래금액'])\n",
    "result_df['예측_거래금액'] = np.expm1(np.round(pred))\n",
    "result_df['diff'] = np.abs(result_df['실제_거래금액'] - result_df['예측_거래금액'])\n",
    "\n",
    "result_df.sort_values('diff', ascending = False)[:5]"
   ]
  },
  {
   "cell_type": "code",
   "execution_count": null,
   "metadata": {
    "ExecuteTime": {
     "end_time": "2020-10-28T02:29:49.068641Z",
     "start_time": "2020-10-28T02:29:49.064640Z"
    }
   },
   "outputs": [],
   "source": [
    "def barplot(modelcoef_) :\n",
    "    coef = pd.Series(modelcoef_, index = x_features_ohe.columns)\n",
    "    coef_sort = coef.sort_values(ascending = False).head(15)\n",
    "    seaborn_barplot = sns.barplot(x = coef_sort.values, y = coef_sort.index)\n",
    "    \n",
    "    return seaborn_barplot"
   ]
  },
  {
   "cell_type": "code",
   "execution_count": null,
   "metadata": {
    "ExecuteTime": {
     "end_time": "2020-10-28T02:33:42.006546Z",
     "start_time": "2020-10-28T02:33:41.797531Z"
    }
   },
   "outputs": [],
   "source": [
    "barplot(lr_reg.coef_)"
   ]
  },
  {
   "cell_type": "markdown",
   "metadata": {},
   "source": [
    "## Ridge 모델 예측 및 평가"
   ]
  },
  {
   "cell_type": "code",
   "execution_count": 15,
   "metadata": {
    "ExecuteTime": {
     "end_time": "2020-11-19T12:37:07.273389Z",
     "start_time": "2020-11-19T12:36:01.530374Z"
    }
   },
   "outputs": [
    {
     "name": "stdout",
     "output_type": "stream",
     "text": [
      "2104.4243886167374 3700.7849686973204\n"
     ]
    }
   ],
   "source": [
    "x_train, x_test, y_train, y_test = train_test_split(x_features_ohe, y_target, test_size = 0.3)\n",
    "\n",
    "ridge_reg = Ridge()\n",
    "ridge_reg.fit(x_train, y_train)\n",
    "pred = ridge_reg.predict(x_test)\n",
    "\n",
    "y_test_exp = np.expm1(y_test)\n",
    "pred_exp = np.expm1(pred)\n",
    "\n",
    "mae = mean_absolute_error(y_test_exp, pred_exp)\n",
    "mse = mean_squared_error(y_test_exp, pred_exp)\n",
    "rmse = np.sqrt(mse)\n",
    "print(mae, rmse)"
   ]
  },
  {
   "cell_type": "code",
   "execution_count": 16,
   "metadata": {
    "ExecuteTime": {
     "end_time": "2020-11-19T12:37:17.521141Z",
     "start_time": "2020-11-19T12:37:17.378132Z"
    }
   },
   "outputs": [
    {
     "data": {
      "text/html": [
       "<div>\n",
       "<style scoped>\n",
       "    .dataframe tbody tr th:only-of-type {\n",
       "        vertical-align: middle;\n",
       "    }\n",
       "\n",
       "    .dataframe tbody tr th {\n",
       "        vertical-align: top;\n",
       "    }\n",
       "\n",
       "    .dataframe thead th {\n",
       "        text-align: right;\n",
       "    }\n",
       "</style>\n",
       "<table border=\"1\" class=\"dataframe\">\n",
       "  <thead>\n",
       "    <tr style=\"text-align: right;\">\n",
       "      <th></th>\n",
       "      <th>실제_거래금액</th>\n",
       "      <th>예측_거래금액</th>\n",
       "      <th>diff</th>\n",
       "    </tr>\n",
       "  </thead>\n",
       "  <tbody>\n",
       "    <tr>\n",
       "      <th>36604</th>\n",
       "      <td>149900.0</td>\n",
       "      <td>77349.57</td>\n",
       "      <td>72550.43</td>\n",
       "    </tr>\n",
       "    <tr>\n",
       "      <th>16733</th>\n",
       "      <td>157000.0</td>\n",
       "      <td>90098.21</td>\n",
       "      <td>66901.79</td>\n",
       "    </tr>\n",
       "    <tr>\n",
       "      <th>17308</th>\n",
       "      <td>60000.0</td>\n",
       "      <td>125672.25</td>\n",
       "      <td>65672.25</td>\n",
       "    </tr>\n",
       "    <tr>\n",
       "      <th>35321</th>\n",
       "      <td>138000.0</td>\n",
       "      <td>83088.43</td>\n",
       "      <td>54911.57</td>\n",
       "    </tr>\n",
       "    <tr>\n",
       "      <th>15242</th>\n",
       "      <td>135000.0</td>\n",
       "      <td>80735.44</td>\n",
       "      <td>54264.56</td>\n",
       "    </tr>\n",
       "  </tbody>\n",
       "</table>\n",
       "</div>"
      ],
      "text/plain": [
       "        실제_거래금액    예측_거래금액      diff\n",
       "36604  149900.0   77349.57  72550.43\n",
       "16733  157000.0   90098.21  66901.79\n",
       "17308   60000.0  125672.25  65672.25\n",
       "35321  138000.0   83088.43  54911.57\n",
       "15242  135000.0   80735.44  54264.56"
      ]
     },
     "execution_count": 16,
     "metadata": {},
     "output_type": "execute_result"
    }
   ],
   "source": [
    "# 실제 거래금액 - 예측한 거래금액의 차이를 내림차순으로 표현\n",
    "result_df = pd.DataFrame(np.expm1(y_test.values), columns = ['실제_거래금액'])\n",
    "result_df['예측_거래금액'] = np.round(np.expm1(pred), 2)\n",
    "result_df['diff'] = np.abs(result_df['실제_거래금액'] - result_df['예측_거래금액'])\n",
    "\n",
    "result_df.sort_values('diff', ascending = False)[:5]\n",
    "\n",
    "# good = result_df.sort_values('diff', ascending = False)[:5]\n",
    "# print(np.expm1(result_df['실제_거래금액']), end = '\\n\\n')\n",
    "# print(np.round(np.expm1(result_df['예측_거래금액']), 3))"
   ]
  },
  {
   "cell_type": "code",
   "execution_count": 17,
   "metadata": {
    "ExecuteTime": {
     "end_time": "2020-11-19T12:37:26.267784Z",
     "start_time": "2020-11-19T12:37:26.014767Z"
    },
    "scrolled": false
   },
   "outputs": [
    {
     "data": {
      "text/plain": [
       "<matplotlib.axes._subplots.AxesSubplot at 0x1fe0002aca0>"
      ]
     },
     "execution_count": 17,
     "metadata": {},
     "output_type": "execute_result"
    },
    {
     "data": {
      "image/png": "[encoded data removed]",
      "text/plain": [
       "<Figure size 432x288 with 1 Axes>"
      ]
     },
     "metadata": {
      "needs_background": "light"
     },
     "output_type": "display_data"
    }
   ],
   "source": [
    "coef = pd.Series(ridge_reg.coef_, index = x_features_ohe.columns)\n",
    "coef_sort = coef.sort_values(ascending = False).head(10)\n",
    "sns.barplot(x = coef_sort.values, y = coef_sort.index)"
   ]
  },
  {
   "cell_type": "markdown",
   "metadata": {},
   "source": [
    "## Lasso 모델 예측 및 평가"
   ]
  },
  {
   "cell_type": "code",
   "execution_count": 18,
   "metadata": {
    "ExecuteTime": {
     "end_time": "2020-11-19T12:37:42.595983Z",
     "start_time": "2020-11-19T12:37:30.684109Z"
    }
   },
   "outputs": [
    {
     "name": "stdout",
     "output_type": "stream",
     "text": [
      "8061.113153125547 14179.174465001968\n"
     ]
    }
   ],
   "source": [
    "x_train, x_test, y_train, y_test = train_test_split(x_features_ohe, y_target, test_size = 0.3)\n",
    "\n",
    "lasso_reg = Lasso()\n",
    "lasso_reg.fit(x_train, y_train)\n",
    "pred = lasso_reg.predict(x_test)\n",
    "\n",
    "y_test_exp = np.expm1(y_test)\n",
    "pred_exp = np.expm1(pred)\n",
    "\n",
    "mae = mean_absolute_error(y_test_exp, pred_exp)\n",
    "mse = mean_squared_error(y_test_exp, pred_exp)\n",
    "rmse = np.sqrt(mse)\n",
    "print(mae, rmse)"
   ]
  },
  {
   "cell_type": "code",
   "execution_count": 19,
   "metadata": {
    "ExecuteTime": {
     "end_time": "2020-11-19T12:37:45.218178Z",
     "start_time": "2020-11-19T12:37:45.171173Z"
    }
   },
   "outputs": [
    {
     "data": {
      "text/html": [
       "<div>\n",
       "<style scoped>\n",
       "    .dataframe tbody tr th:only-of-type {\n",
       "        vertical-align: middle;\n",
       "    }\n",
       "\n",
       "    .dataframe tbody tr th {\n",
       "        vertical-align: top;\n",
       "    }\n",
       "\n",
       "    .dataframe thead th {\n",
       "        text-align: right;\n",
       "    }\n",
       "</style>\n",
       "<table border=\"1\" class=\"dataframe\">\n",
       "  <thead>\n",
       "    <tr style=\"text-align: right;\">\n",
       "      <th></th>\n",
       "      <th>실제_거래금액</th>\n",
       "      <th>예측_거래금액</th>\n",
       "      <th>diff</th>\n",
       "    </tr>\n",
       "  </thead>\n",
       "  <tbody>\n",
       "    <tr>\n",
       "      <th>21152</th>\n",
       "      <td>31000.0</td>\n",
       "      <td>339243.808</td>\n",
       "      <td>308243.808</td>\n",
       "    </tr>\n",
       "    <tr>\n",
       "      <th>37764</th>\n",
       "      <td>62800.0</td>\n",
       "      <td>361790.861</td>\n",
       "      <td>298990.861</td>\n",
       "    </tr>\n",
       "    <tr>\n",
       "      <th>8245</th>\n",
       "      <td>67500.0</td>\n",
       "      <td>361790.861</td>\n",
       "      <td>294290.861</td>\n",
       "    </tr>\n",
       "    <tr>\n",
       "      <th>35716</th>\n",
       "      <td>72500.0</td>\n",
       "      <td>361790.861</td>\n",
       "      <td>289290.861</td>\n",
       "    </tr>\n",
       "    <tr>\n",
       "      <th>24456</th>\n",
       "      <td>85000.0</td>\n",
       "      <td>361790.861</td>\n",
       "      <td>276790.861</td>\n",
       "    </tr>\n",
       "  </tbody>\n",
       "</table>\n",
       "</div>"
      ],
      "text/plain": [
       "       실제_거래금액     예측_거래금액        diff\n",
       "21152  31000.0  339243.808  308243.808\n",
       "37764  62800.0  361790.861  298990.861\n",
       "8245   67500.0  361790.861  294290.861\n",
       "35716  72500.0  361790.861  289290.861\n",
       "24456  85000.0  361790.861  276790.861"
      ]
     },
     "execution_count": 19,
     "metadata": {},
     "output_type": "execute_result"
    }
   ],
   "source": [
    "# 실제 거래금액 - 예측한 거래금액의 차이를 내림차순으로 표현\n",
    "result_df = pd.DataFrame(np.expm1(y_test.values), columns = ['실제_거래금액'])\n",
    "result_df['예측_거래금액'] = np.round(np.expm1(pred), 3)\n",
    "result_df['diff'] = np.abs(result_df['실제_거래금액'] - result_df['예측_거래금액'])\n",
    "\n",
    "result_df.sort_values('diff', ascending = False)[:5]\n",
    "\n",
    "# good = result_df.sort_values('diff', ascending = False)[:5]\n",
    "# print(np.expm1(result_df['실제_거래금액']), end = '\\n\\n')\n",
    "# print(np.round(np.expm1(result_df['예측_거래금액']), 3))"
   ]
  },
  {
   "cell_type": "code",
   "execution_count": 20,
   "metadata": {
    "ExecuteTime": {
     "end_time": "2020-11-19T12:37:49.134464Z",
     "start_time": "2020-11-19T12:37:48.917449Z"
    }
   },
   "outputs": [
    {
     "data": {
      "text/plain": [
       "<matplotlib.axes._subplots.AxesSubplot at 0x1fe002cd790>"
      ]
     },
     "execution_count": 20,
     "metadata": {},
     "output_type": "execute_result"
    },
    {
     "data": {
      "image/png": "[encoded data removed]",
      "text/plain": [
       "<Figure size 432x288 with 1 Axes>"
      ]
     },
     "metadata": {
      "needs_background": "light"
     },
     "output_type": "display_data"
    }
   ],
   "source": [
    "coef = pd.Series(lasso_reg.coef_, index = x_features_ohe.columns)\n",
    "coef_sort = coef.sort_values(ascending = False).head(10)\n",
    "sns.barplot(x = coef_sort.values, y = coef_sort.index)"
   ]
  },
  {
   "cell_type": "markdown",
   "metadata": {},
   "source": [
    "## Elasticnet 모델 예측 및 평가"
   ]
  },
  {
   "cell_type": "code",
   "execution_count": 21,
   "metadata": {
    "ExecuteTime": {
     "end_time": "2020-11-19T12:38:03.099490Z",
     "start_time": "2020-11-19T12:37:51.833663Z"
    }
   },
   "outputs": [
    {
     "name": "stdout",
     "output_type": "stream",
     "text": [
      "7963.604183599461 14086.072740819944\n"
     ]
    }
   ],
   "source": [
    "x_train, x_test, y_train, y_test = train_test_split(x_features_ohe, y_target, test_size = 0.3)\n",
    "\n",
    "elasticnet_reg = ElasticNet()\n",
    "elasticnet_reg.fit(x_train, y_train)\n",
    "pred = elasticnet_reg.predict(x_test)\n",
    "\n",
    "y_test_exp = np.expm1(y_test)\n",
    "pred_exp = np.expm1(pred)\n",
    "\n",
    "mae = mean_absolute_error(y_test_exp, pred_exp)\n",
    "mse = mean_squared_error(y_test_exp, pred_exp)\n",
    "rmse = np.sqrt(mse)\n",
    "print(mae, rmse)"
   ]
  },
  {
   "cell_type": "code",
   "execution_count": 22,
   "metadata": {
    "ExecuteTime": {
     "end_time": "2020-11-19T12:38:04.490592Z",
     "start_time": "2020-11-19T12:38:04.459592Z"
    }
   },
   "outputs": [
    {
     "data": {
      "text/html": [
       "<div>\n",
       "<style scoped>\n",
       "    .dataframe tbody tr th:only-of-type {\n",
       "        vertical-align: middle;\n",
       "    }\n",
       "\n",
       "    .dataframe tbody tr th {\n",
       "        vertical-align: top;\n",
       "    }\n",
       "\n",
       "    .dataframe thead th {\n",
       "        text-align: right;\n",
       "    }\n",
       "</style>\n",
       "<table border=\"1\" class=\"dataframe\">\n",
       "  <thead>\n",
       "    <tr style=\"text-align: right;\">\n",
       "      <th></th>\n",
       "      <th>실제_거래금액</th>\n",
       "      <th>예측_거래금액</th>\n",
       "      <th>diff</th>\n",
       "    </tr>\n",
       "  </thead>\n",
       "  <tbody>\n",
       "    <tr>\n",
       "      <th>16457</th>\n",
       "      <td>65000.0</td>\n",
       "      <td>522992.70</td>\n",
       "      <td>457992.70</td>\n",
       "    </tr>\n",
       "    <tr>\n",
       "      <th>25507</th>\n",
       "      <td>85000.0</td>\n",
       "      <td>398471.79</td>\n",
       "      <td>313471.79</td>\n",
       "    </tr>\n",
       "    <tr>\n",
       "      <th>13217</th>\n",
       "      <td>80000.0</td>\n",
       "      <td>389339.77</td>\n",
       "      <td>309339.77</td>\n",
       "    </tr>\n",
       "    <tr>\n",
       "      <th>12310</th>\n",
       "      <td>82500.0</td>\n",
       "      <td>390858.44</td>\n",
       "      <td>308358.44</td>\n",
       "    </tr>\n",
       "    <tr>\n",
       "      <th>32475</th>\n",
       "      <td>59000.0</td>\n",
       "      <td>354068.26</td>\n",
       "      <td>295068.26</td>\n",
       "    </tr>\n",
       "  </tbody>\n",
       "</table>\n",
       "</div>"
      ],
      "text/plain": [
       "       실제_거래금액    예측_거래금액       diff\n",
       "16457  65000.0  522992.70  457992.70\n",
       "25507  85000.0  398471.79  313471.79\n",
       "13217  80000.0  389339.77  309339.77\n",
       "12310  82500.0  390858.44  308358.44\n",
       "32475  59000.0  354068.26  295068.26"
      ]
     },
     "execution_count": 22,
     "metadata": {},
     "output_type": "execute_result"
    }
   ],
   "source": [
    "# 실제 거래금액 - 예측한 거래금액의 차이를 내림차순으로 표현\n",
    "result_df = pd.DataFrame(np.expm1(y_test.values), columns = ['실제_거래금액'])\n",
    "result_df['예측_거래금액'] = np.round(np.expm1(pred), 2)\n",
    "result_df['diff'] = np.abs(result_df['실제_거래금액'] - result_df['예측_거래금액'])\n",
    "\n",
    "result_df.sort_values('diff', ascending = False)[:5]\n",
    "\n",
    "# good = result_df.sort_values('diff', ascending = False)[:5]\n",
    "# print(np.expm1(result_df['실제_거래금액']), end = '\\n\\n')\n",
    "# print(np.round(np.expm1(result_df['예측_거래금액']), 3))"
   ]
  },
  {
   "cell_type": "code",
   "execution_count": 23,
   "metadata": {
    "ExecuteTime": {
     "end_time": "2020-11-19T12:38:07.067782Z",
     "start_time": "2020-11-19T12:38:06.896770Z"
    }
   },
   "outputs": [
    {
     "data": {
      "text/plain": [
       "<matplotlib.axes._subplots.AxesSubplot at 0x1fe006281f0>"
      ]
     },
     "execution_count": 23,
     "metadata": {},
     "output_type": "execute_result"
    },
    {
     "data": {
      "image/png": "[encoded data removed]",
      "text/plain": [
       "<Figure size 432x288 with 1 Axes>"
      ]
     },
     "metadata": {
      "needs_background": "light"
     },
     "output_type": "display_data"
    }
   ],
   "source": [
    "coef = pd.Series(elasticnet_reg.coef_, index = x_features_ohe.columns)\n",
    "coef_sort = coef.sort_values(ascending = False).head(10)\n",
    "sns.barplot(x = coef_sort.values, y = coef_sort.index)"
   ]
  },
  {
   "cell_type": "markdown",
   "metadata": {},
   "source": [
    "### 교차검증 GridSearch CV로 최적의 알파값을 찾음."
   ]
  },
  {
   "cell_type": "code",
   "execution_count": 24,
   "metadata": {
    "ExecuteTime": {
     "end_time": "2020-11-19T12:38:10.098004Z",
     "start_time": "2020-11-19T12:38:10.078003Z"
    }
   },
   "outputs": [],
   "source": [
    "from sklearn.model_selection import GridSearchCV\n",
    "\n",
    "def print_best_params(model, params) :\n",
    "        grid_model_mse = GridSearchCV(model, param_grid = params, scoring = 'neg_mean_squared_error', cv = 5)\n",
    "        \n",
    "        grid_model.fit(x_features_ohe, y_target)\n",
    "        rmse = np.sqrt(-1 * grid_model.best_score_)\n",
    "        print('{0} 5 CV시 최적 평균 RMSE 값 :{1}, 최적 ALPHA:{2}' .format(model.__class__.__name__, np.round(rmse, 3)\n",
    "                                                                  , grid_model.best_params_))"
   ]
  },
  {
   "cell_type": "code",
   "execution_count": null,
   "metadata": {
    "ExecuteTime": {
     "start_time": "2020-11-19T12:39:20.787Z"
    }
   },
   "outputs": [],
   "source": [
    "ridge_params = {'alpha' : [0.01, 0.1, 0.5, 1, 5, 8, 12, 15, 20, 50, 100]}\n",
    "lasso_params = {'alpha' : [0.01, 0.05, 0.08, 0.1, 0.3, 0.5, 1, 5, 10, 20, 50]}\n",
    "elasticnet_params = {'alpha' : [0.01, 0.05, 0.08, 0.1, 0.3, 0.5, 1, 5, 10, 20], 'l1_ratio' : [0.1, 0.3, 0.5, 0.8, 1]}\n",
    "\n",
    "print_best_params(ridge_reg, ridge_params)\n",
    "print_best_params(lasso_reg, ridge_params)\n",
    "print_best_params(elasticnet_reg ,elasticnet_params)"
   ]
  },
  {
   "cell_type": "markdown",
   "metadata": {},
   "source": [
    "### 최적의 알파값 0.5를 대입한 Ridge() 평가 지표"
   ]
  },
  {
   "cell_type": "code",
   "execution_count": null,
   "metadata": {
    "ExecuteTime": {
     "end_time": "2020-10-27T08:34:37.741204Z",
     "start_time": "2020-10-27T08:34:10.104135Z"
    }
   },
   "outputs": [],
   "source": [
    "x_train, x_test, y_train, y_test = train_test_split(x_features_ohe, y_target, test_size = 0.3)\n",
    "\n",
    "ridge_reg = Ridge(alpha = 0.5)\n",
    "ridge_reg.fit(x_train, y_train)\n",
    "pred = ridge_reg.predict(x_test)\n",
    "\n",
    "y_test_exp = np.expm1(y_test)\n",
    "pred_exp = np.expm1(pred)\n",
    "\n",
    "mse = mean_squared_error(y_test_exp, pred_exp)\n",
    "rmse = np.sqrt(mse)\n",
    "print(mse, rmse)"
   ]
  },
  {
   "cell_type": "code",
   "execution_count": null,
   "metadata": {
    "ExecuteTime": {
     "end_time": "2020-10-27T08:34:40.253392Z",
     "start_time": "2020-10-27T08:34:40.234389Z"
    }
   },
   "outputs": [],
   "source": [
    "# 실제 거래금액 - 예측한 거래금액의 차이를 내림차순으로 표현\n",
    "result_df = pd.DataFrame(y_test_exp.values, columns = ['실제_거래금액'])\n",
    "result_df['예측_거래금액'] = pred_exp\n",
    "result_df['diff'] = np.abs(result_df['실제_거래금액'] - result_df['예측_거래금액'])\n",
    "\n",
    "\n",
    "print(result_df.sort_values('diff', ascending = False)[:5], end = '\\n\\n')\n",
    "\n",
    "# print(np.expm1(result_df['실제_거래금액']), end = '\\n\\n')\n",
    "# print(np.round(np.expm1(result_df['예측_거래금액']), 1))\n",
    "\n",
    "\n",
    "\n"
   ]
  },
  {
   "cell_type": "code",
   "execution_count": null,
   "metadata": {
    "ExecuteTime": {
     "end_time": "2020-10-27T08:34:43.143607Z",
     "start_time": "2020-10-27T08:34:42.929592Z"
    }
   },
   "outputs": [],
   "source": [
    "coef = pd.Series(ridge_reg.coef_, index = x_features_ohe.columns)\n",
    "coef_sort = coef.sort_values(ascending = False).head(10)\n",
    "sns.barplot(x = coef_sort.values, y = coef_sort.index)"
   ]
  },
  {
   "cell_type": "markdown",
   "metadata": {},
   "source": [
    "### 최적의 알파값 0.01을 대입한 Lasso() 평가 지표"
   ]
  },
  {
   "cell_type": "code",
   "execution_count": null,
   "metadata": {
    "ExecuteTime": {
     "end_time": "2020-10-27T08:34:55.318518Z",
     "start_time": "2020-10-27T08:34:45.349773Z"
    }
   },
   "outputs": [],
   "source": [
    "x_train, x_test, y_train, y_test = train_test_split(x_features_ohe, y_target, test_size = 0.3)\n",
    "\n",
    "lasso_reg = Lasso(alpha = 0.01)\n",
    "lasso_reg.fit(x_train, y_train)\n",
    "pred = lasso_reg.predict(x_test)\n",
    "\n",
    "y_test_exp = np.expm1(y_test)\n",
    "pred_exp = np.expm1(pred)\n",
    "\n",
    "mse = mean_squared_error(y_test_exp, pred_exp)\n",
    "rmse = np.sqrt(mse)\n",
    "print(mse, rmse)\n",
    "# print(type(mse), type(rmse))"
   ]
  },
  {
   "cell_type": "code",
   "execution_count": null,
   "metadata": {
    "ExecuteTime": {
     "end_time": "2020-10-27T08:34:58.667769Z",
     "start_time": "2020-10-27T08:34:58.457755Z"
    }
   },
   "outputs": [],
   "source": [
    "coef = pd.Series(lasso_reg.coef_, index = x_features_ohe.columns)\n",
    "coef_sort = coef.sort_values(ascending = False).head(10)\n",
    "sns.barplot(x = coef_sort.values, y = coef_sort.index)"
   ]
  },
  {
   "cell_type": "markdown",
   "metadata": {
    "ExecuteTime": {
     "end_time": "2020-10-28T04:41:17.289083Z",
     "start_time": "2020-10-28T04:41:17.285083Z"
    }
   },
   "source": [
    "### 최적의 알파값과 l1_ratio 대입한 ElasnicNet() 평가 지표"
   ]
  },
  {
   "cell_type": "code",
   "execution_count": null,
   "metadata": {
    "ExecuteTime": {
     "end_time": "2020-10-28T04:42:18.670075Z",
     "start_time": "2020-10-28T04:42:03.002938Z"
    }
   },
   "outputs": [],
   "source": [
    "x_train, x_test, y_train, y_test = train_test_split(x_features_ohe, y_target, test_size = 0.3)\n",
    "\n",
    "elasticnet_reg = ElasticNet(alpha = 0.01, l1_ratio= 0.1)\n",
    "elasticnet_reg.fit(x_train, y_train)\n",
    "pred = elasticnet_reg.predict(x_test)\n",
    "\n",
    "y_test_exp = np.expm1(y_test)\n",
    "pred_exp = np.expm1(pred)\n",
    "\n",
    "mae = mean_absolute_error(y_test_exp, pred_exp)\n",
    "mse = mean_squared_error(y_test_exp, pred_exp)\n",
    "rmse = np.sqrt(mse)\n",
    "print(mae, rmse)"
   ]
  },
  {
   "cell_type": "code",
   "execution_count": null,
   "metadata": {
    "ExecuteTime": {
     "end_time": "2020-10-28T04:42:23.928456Z",
     "start_time": "2020-10-28T04:42:23.665437Z"
    }
   },
   "outputs": [],
   "source": [
    "barplot(elasticnet_reg.coef_)"
   ]
  },
  {
   "cell_type": "markdown",
   "metadata": {},
   "source": [
    "### 왜곡된 피처데이터 로그 변환"
   ]
  },
  {
   "cell_type": "code",
   "execution_count": null,
   "metadata": {
    "ExecuteTime": {
     "end_time": "2020-10-28T04:48:18.064218Z",
     "start_time": "2020-10-28T04:48:18.010212Z"
    }
   },
   "outputs": [],
   "source": [
    "from scipy.stats import skew \n",
    "\n",
    "# object가 아닌 숫자형 피처의 칼럼 index 객체 추출 \n",
    "features_index = choongchung_df2.dtypes[choongchung_df2.dtypes != 'object'].index\n",
    "features_index\n",
    "\n",
    "#choongchung_df_copy에 칼럼 index를 list로 입력하면 해당하는 칼럼 데이터 세트 반환. apply lambda로 skew() 호출 \n",
    "skew_features = choongchung_df2[features_index].apply(lambda x : skew(x))\n",
    "skew_features\n",
    "\n",
    "#skew(왜곡) 수치형 데이터 칼럼만 추출한다. \n",
    "skew_features_top = skew_features[(skew_features.index == '전용면적') | (skew_features.index == '거래금액')] \n",
    "skew_features_top"
   ]
  },
  {
   "cell_type": "code",
   "execution_count": null,
   "metadata": {
    "ExecuteTime": {
     "end_time": "2020-10-28T04:48:20.494393Z",
     "start_time": "2020-10-28T04:48:20.477391Z"
    }
   },
   "outputs": [],
   "source": [
    "choongchung_df2[skew_features_top.index] = np.log1p(choongchung_df2[skew_features_top.index])"
   ]
  },
  {
   "cell_type": "code",
   "execution_count": null,
   "metadata": {
    "ExecuteTime": {
     "end_time": "2020-10-28T04:48:22.224519Z",
     "start_time": "2020-10-28T04:48:22.211517Z"
    }
   },
   "outputs": [],
   "source": [
    "choongchung_df2.head()"
   ]
  },
  {
   "cell_type": "code",
   "execution_count": null,
   "metadata": {
    "ExecuteTime": {
     "end_time": "2020-10-28T04:48:43.653073Z",
     "start_time": "2020-10-28T04:48:43.647072Z"
    }
   },
   "outputs": [],
   "source": [
    "from sklearn.model_selection import GridSearchCV\n",
    "\n",
    "def print_best_params(model, params) :\n",
    "    grid_model = GridSearchCV(model, param_grid = params, scoring = 'neg_mean_squared_error', cv = 5)\n",
    "    \n",
    "    grid_model.fit(x_features_ohe, y_target)\n",
    "    rmse = np.sqrt(-1 * grid_model.best_score_)\n",
    "    print('{0} 5 CV시 최적 평균 RMSE 값 :{1}, 최적 ALPHA:{2}' .format(model.__class__.__name__, np.round(rmse, 4)\n",
    "                                                              , grid_model.best_params_))"
   ]
  },
  {
   "cell_type": "code",
   "execution_count": null,
   "metadata": {
    "ExecuteTime": {
     "end_time": "2020-10-28T04:49:01.538369Z",
     "start_time": "2020-10-28T04:48:55.877960Z"
    }
   },
   "outputs": [],
   "source": [
    "# 왜곡 정도가 높은 피처를 로그 변환했으므로 다시 원-핫 인코딩을 적용하고 피처/타깃 데이터 세트 생성 \n",
    "choongchung_df_ohe = pd.get_dummies(choongchung_df2, columns = ['년', '법정동', '아파트', '월', '일', '지역코드'])\n",
    "# house_df_ohe\n",
    "y_target = choongchung_df_ohe['거래금액']\n",
    "x_features_ohe = choongchung_df_ohe.drop('거래금액', axis = 1, inplace = False)\n",
    "\n",
    "x_train, x_test, y_train, y_test = train_test_split(x_features_ohe, y_target, test_size = 0.3)\n",
    "\n",
    "ridge_reg = Ridge()\n",
    "lasso_reg = Lasso()\n",
    "elasticnet_reg = ElasticNet()"
   ]
  },
  {
   "cell_type": "code",
   "execution_count": null,
   "metadata": {
    "ExecuteTime": {
     "end_time": "2020-10-28T04:49:03.849539Z",
     "start_time": "2020-10-28T04:49:03.830538Z"
    }
   },
   "outputs": [],
   "source": [
    "choongchung_df_ohe.head()"
   ]
  },
  {
   "cell_type": "code",
   "execution_count": null,
   "metadata": {
    "ExecuteTime": {
     "end_time": "2020-10-28T04:50:00.174529Z",
     "start_time": "2020-10-28T04:49:05.843684Z"
    }
   },
   "outputs": [],
   "source": [
    "# 피처를 로그 변환한 후 다시 최적의 하이퍼 파라미터와 RMSE를 출력한다.\n",
    "ridge_params = {'alpha' : [0.01, 0.1, 0.2, 0.5, 1, 5, 8, 12, 15, 20]}\n",
    "lasso_params = {'alpha' : [0.01, 0.03, 0.05, 0.08, 0.1, 0.3, 0.5, 1, 5, 10]}\n",
    "elasticnet_params = {'alpha' : [0.01, 0.05, 0.08, 0.1, 0.3, 0.5, 1, 5, 10, 20, 50, 100], 'l1_ratio' : [0.1, 0.3, 0.5, 0.8, 1]}\n",
    "print_best_params(ridge_reg, ridge_params)\n",
    "print_best_params(lasso_reg, lasso_params)\n",
    "print_best_params(elasticnet_reg, elasticnet_parmas)"
   ]
  },
  {
   "cell_type": "markdown",
   "metadata": {},
   "source": [
    "### 왜곡된 피처데이터 로그 변환 Ridge()"
   ]
  },
  {
   "cell_type": "code",
   "execution_count": null,
   "metadata": {
    "ExecuteTime": {
     "end_time": "2020-10-27T10:27:41.619880Z",
     "start_time": "2020-10-27T10:27:18.219129Z"
    }
   },
   "outputs": [],
   "source": [
    "x_train, x_test, y_train, y_test = train_test_split(x_features_ohe, y_target, test_size = 0.3)\n",
    "\n",
    "ridge_reg = Ridge(alpha = 0.5)\n",
    "ridge_reg.fit(x_train, y_train)\n",
    "pred = ridge_reg.predict(x_test)\n",
    "\n",
    "y_test_exp = np.expm1(y_test)\n",
    "pred_exp = np.expm1(pred)\n",
    "\n",
    "mse = mean_squared_error(y_test_exp, pred_exp)\n",
    "rmse = np.sqrt(mse)\n",
    "print(mse, rmse)"
   ]
  },
  {
   "cell_type": "code",
   "execution_count": null,
   "metadata": {
    "ExecuteTime": {
     "end_time": "2020-10-27T10:27:41.802913Z",
     "start_time": "2020-10-27T10:27:41.621880Z"
    }
   },
   "outputs": [],
   "source": [
    "coef = pd.Series(ridge_reg.coef_, index = x_features_ohe.columns)\n",
    "coef_sort = coef.sort_values(ascending = False).head(10)\n",
    "sns.barplot(x = coef_sort.values, y = coef_sort.index)"
   ]
  },
  {
   "cell_type": "markdown",
   "metadata": {},
   "source": [
    "### 왜곡된 피처데이터 로그 변환 Lasso()"
   ]
  },
  {
   "cell_type": "code",
   "execution_count": null,
   "metadata": {
    "ExecuteTime": {
     "end_time": "2020-10-27T10:27:59.860275Z",
     "start_time": "2020-10-27T10:27:50.443571Z"
    }
   },
   "outputs": [],
   "source": [
    "x_train, x_test, y_train, y_test = train_test_split(x_features_ohe, y_target, test_size = 0.3)\n",
    "\n",
    "lasso_reg = Lasso(0.01)\n",
    "lasso_reg.fit(x_train, y_train)\n",
    "pred = lasso_reg.predict(x_test)\n",
    "\n",
    "y_test_expm1 = np.expm1(y_test)\n",
    "pred_exp = np.expm1(pred)\n",
    "\n",
    "mse = mean_squared_error(y_test_expm1, pred_exp)\n",
    "rmse = np.sqrt(mse)\n",
    "print(mse, rmse)"
   ]
  },
  {
   "cell_type": "code",
   "execution_count": null,
   "metadata": {
    "ExecuteTime": {
     "end_time": "2020-10-27T09:17:50.249891Z",
     "start_time": "2020-10-27T09:17:50.067878Z"
    },
    "scrolled": true
   },
   "outputs": [],
   "source": [
    "coef = pd.Series(lasso_reg.coef_, index = x_features_ohe.columns)\n",
    "coef_sort = coef.sort_values(ascending = False).head(10)\n",
    "sns.barplot(x = coef_sort.values, y = coef_sort.index)"
   ]
  },
  {
   "cell_type": "markdown",
   "metadata": {},
   "source": [
    "### 왜곡된 피처데이터 로그 변환 ElasticNet()"
   ]
  },
  {
   "cell_type": "code",
   "execution_count": null,
   "metadata": {
    "ExecuteTime": {
     "end_time": "2020-10-28T04:50:57.454718Z",
     "start_time": "2020-10-28T04:50:43.539709Z"
    }
   },
   "outputs": [],
   "source": [
    "x_train, x_test, y_train, y_test = train_test_split(x_features_ohe, y_target, test_size = 0.3)\n",
    "\n",
    "elasticnet_reg = ElasticNet(alpha = 0.01, l1_ratio= 0.1)\n",
    "elasticnet_reg.fit(x_train, y_train)\n",
    "pred = elasticnet_reg.predict(x_test)\n",
    "\n",
    "y_test_exp = np.expm1(y_test)\n",
    "pred_exp = np.expm1(pred)\n",
    "\n",
    "mae = mean_absolute_error(y_test_exp, pred_exp)\n",
    "mse = mean_squared_error(y_test_exp, pred_exp)\n",
    "rmse = np.sqrt(mse)\n",
    "print(mae, rmse)"
   ]
  },
  {
   "cell_type": "code",
   "execution_count": null,
   "metadata": {
    "ExecuteTime": {
     "end_time": "2020-10-28T04:51:38.460833Z",
     "start_time": "2020-10-28T04:51:37.905781Z"
    }
   },
   "outputs": [],
   "source": [
    "coef = pd.Series(elasticnet_reg.coef_, index = x_features_ohe.columns)\n",
    "coef_sort = coef.sort_values(ascending = False).head(10)\n",
    "sns.barplot(x = coef_sort.values, y = coef_sort.index)"
   ]
  },
  {
   "cell_type": "markdown",
   "metadata": {},
   "source": [
    "### 이상치 데이터 제거"
   ]
  },
  {
   "cell_type": "code",
   "execution_count": null,
   "metadata": {
    "ExecuteTime": {
     "end_time": "2020-10-28T04:57:43.574223Z",
     "start_time": "2020-10-28T04:57:43.108189Z"
    },
    "scrolled": true
   },
   "outputs": [],
   "source": [
    "x_label = np.expm1(choongchung_df2['전용면적'])\n",
    "y_label = np.expm1(choongchung_df2['거래금액'])\n",
    "plt.scatter(x = x_label, y = y_label)\n",
    "plt.ylabel('거래금액')\n",
    "plt.xlabel('전용면적')\n",
    "\n",
    "plt.show()"
   ]
  },
  {
   "cell_type": "code",
   "execution_count": null,
   "metadata": {
    "ExecuteTime": {
     "end_time": "2020-10-28T04:57:51.546801Z",
     "start_time": "2020-10-28T04:57:50.499724Z"
    }
   },
   "outputs": [],
   "source": [
    "cond1 = choongchung_df_ohe['거래금액'] < np.log1p(100000)\n",
    "cond2 = choongchung_df_ohe['전용면적'] > np.log1p(250)\n",
    "cond3 = choongchung_df_ohe['거래금액'] > np.log1p(200000)\n",
    "cond4 = choongchung_df_ohe['전용면적'] < np.log1p(250)\n",
    "\n",
    "outliner_index = choongchung_df_ohe[ (cond1 & cond2) | (cond3 & cond4)].index \n",
    "\n",
    "print('이상치 레코드 index :', outliner_index.values)\n",
    "print('이상치 삭제 전 choongchung_df_ohe.shape :', choongchung_df_ohe.shape)\n",
    "\n",
    "choongchung_df_ohe.drop(outliner_index, axis = 0, inplace = True)\n",
    "print('이상치 삭제 후 choongchung_df_ohe.shape :', choongchung_df_ohe.shape)"
   ]
  },
  {
   "cell_type": "code",
   "execution_count": null,
   "metadata": {
    "ExecuteTime": {
     "end_time": "2020-10-28T04:57:53.240925Z",
     "start_time": "2020-10-28T04:57:53.234924Z"
    }
   },
   "outputs": [],
   "source": [
    "from sklearn.model_selection import GridSearchCV\n",
    "\n",
    "def print_best_params(model, params) :\n",
    "    grid_model = GridSearchCV(model, param_grid = params, scoring = 'neg_mean_squared_error', cv = 5)\n",
    "    \n",
    "    grid_model.fit(x_features_ohe, y_target)\n",
    "    rmse = np.sqrt(-1 * grid_model.best_score_)\n",
    "    print('{0} 5 CV시 최적 평균 RMSE 값 :{1}, 최적 ALPHA:{2}' .format(model.__class__.__name__, np.round(rmse, 4)\n",
    "                                                              , grid_model.best_params_))"
   ]
  },
  {
   "cell_type": "code",
   "execution_count": null,
   "metadata": {
    "ExecuteTime": {
     "end_time": "2020-10-28T04:58:19.915859Z",
     "start_time": "2020-10-28T04:57:55.493089Z"
    }
   },
   "outputs": [],
   "source": [
    "y_target = choongchung_df_ohe['거래금액']\n",
    "x_features_ohe = choongchung_df_ohe.drop('거래금액', axis = 1, inplace = False)\n",
    "x_train, x_test, y_train, y_test = train_test_split(x_features_ohe, y_target, test_size = 0.3)\n",
    "\n",
    "# 피처를 로그 변환한 후 다시 최적의 하이퍼 파라미터와 RMSE를 출력한다.\n",
    "ridge_params = {'alpha' : [0.01, 0.1, 0.2, 0.5, 1, 5, 8, 12, 15, 20]}\n",
    "lasso_params = {'alpha' : [0.01, 0.03, 0.05, 0.08, 0.1, 0.3, 0.5, 1, 5, 10]}\n",
    "\n",
    "ridge_reg = Ridge()\n",
    "lasso_leg = Lasso()\n",
    "\n",
    "print_best_params(ridge_reg, ridge_params)\n",
    "print_best_params(lasso_reg, ridge_params)"
   ]
  },
  {
   "cell_type": "markdown",
   "metadata": {},
   "source": [
    "### 이상치 데이터 제거 Ridge()"
   ]
  },
  {
   "cell_type": "code",
   "execution_count": null,
   "metadata": {
    "ExecuteTime": {
     "end_time": "2020-10-28T04:58:51.856178Z",
     "start_time": "2020-10-28T04:58:28.034449Z"
    }
   },
   "outputs": [],
   "source": [
    "x_train, x_test, y_train, y_test = train_test_split(x_features_ohe, y_target, test_size = 0.3)\n",
    "\n",
    "ridge_reg = Ridge(alpha = 0.5)\n",
    "ridge_reg.fit(x_train, y_train)\n",
    "pred = ridge_reg.predict(x_test)\n",
    "\n",
    "y_test_exp = np.expm1(y_test)\n",
    "pred_exp = np.expm1(pred)\n",
    "\n",
    "mse = mean_squared_error(y_test_exp, pred_exp)\n",
    "rmse = np.sqrt(mse)\n",
    "print(mse, rmse)"
   ]
  },
  {
   "cell_type": "code",
   "execution_count": null,
   "metadata": {
    "ExecuteTime": {
     "end_time": "2020-10-28T04:58:54.604377Z",
     "start_time": "2020-10-28T04:58:54.431365Z"
    }
   },
   "outputs": [],
   "source": [
    "coef = pd.Series(ridge_reg.coef_, index = x_features_ohe.columns)\n",
    "coef_sort = coef.sort_values(ascending = False).head(10)\n",
    "sns.barplot(x = coef_sort.values, y = coef_sort.index)"
   ]
  },
  {
   "cell_type": "markdown",
   "metadata": {},
   "source": [
    "### 이상치 데이터 제거 Lasso()"
   ]
  },
  {
   "cell_type": "code",
   "execution_count": null,
   "metadata": {
    "ExecuteTime": {
     "end_time": "2020-10-27T10:10:02.568634Z",
     "start_time": "2020-10-27T10:09:54.265014Z"
    }
   },
   "outputs": [],
   "source": [
    "x_train, x_test, y_train, y_test = train_test_split(x_features_ohe, y_target, test_size = 0.3)\n",
    "\n",
    "lasso_reg = Lasso(0.01)\n",
    "lasso_reg.fit(x_train, y_train)\n",
    "pred = lasso_reg.predict(x_test)\n",
    "\n",
    "y_test_expm1 = np.expm1(y_test)\n",
    "pred_exp = np.expm1(pred)\n",
    "\n",
    "mse = mean_squared_error(y_test_expm1, pred_exp)\n",
    "rmse = np.sqrt(mse)\n",
    "print(mse, rmse)"
   ]
  },
  {
   "cell_type": "code",
   "execution_count": null,
   "metadata": {
    "ExecuteTime": {
     "end_time": "2020-10-27T10:10:03.703719Z",
     "start_time": "2020-10-27T10:10:03.561710Z"
    }
   },
   "outputs": [],
   "source": [
    "coef = pd.Series(lasso_reg.coef_, index = x_features_ohe.columns)\n",
    "coef_sort = coef.sort_values(ascending = False).head(10)\n",
    "sns.barplot(x = coef_sort.values, y = coef_sort.index)"
   ]
  },
  {
   "cell_type": "markdown",
   "metadata": {},
   "source": [
    "## 이상치 데이터 제거 ElasticNet()"
   ]
  },
  {
   "cell_type": "code",
   "execution_count": null,
   "metadata": {},
   "outputs": [],
   "source": [
    "x_train, x_test, y_train, y_test = train_test_split(x_features_ohe, y_target, test_size = 0.3)\n",
    "\n",
    "elasticnet_reg = ElasticNet(alpha = 0.01, l1_ratio= 0.1)\n",
    "elasticnet_reg.fit(x_train, y_train)\n",
    "pred = elasticnet_reg.predict(x_test)\n",
    "\n",
    "y_test_exp = np.expm1(y_test)\n",
    "pred_exp = np.expm1(pred)\n",
    "\n",
    "mae = mean_absolute_error(y_test_exp, pred_exp)\n",
    "mse = mean_squared_error(y_test_exp, pred_exp)\n",
    "rmse = np.sqrt(mse)\n",
    "print(mae, rmse)"
   ]
  },
  {
   "cell_type": "code",
   "execution_count": null,
   "metadata": {},
   "outputs": [],
   "source": [
    "coef = pd.Series(elasticnet_reg.coef_, index = x_features_ohe.columns)\n",
    "coef_sort = coef.sort_values(ascending = False).head(10)\n",
    "sns.barplot(x = coef_sort.values, y = coef_sort.index)"
   ]
  },
  {
   "cell_type": "markdown",
   "metadata": {},
   "source": [
    "## 회귀 결정 트리/앙상블 학습"
   ]
  },
  {
   "cell_type": "code",
   "execution_count": null,
   "metadata": {
    "ExecuteTime": {
     "end_time": "2020-10-28T08:34:00.877961Z",
     "start_time": "2020-10-28T08:34:00.698948Z"
    }
   },
   "outputs": [],
   "source": [
    "choongchung_df = pd.read_csv('choongchungdo.csv.')\n",
    "choongchung_df.head()"
   ]
  },
  {
   "cell_type": "code",
   "execution_count": null,
   "metadata": {
    "ExecuteTime": {
     "end_time": "2020-10-28T08:34:02.801102Z",
     "start_time": "2020-10-28T08:34:02.789100Z"
    }
   },
   "outputs": [],
   "source": [
    "choongchung_df.columns = ['trade', 'build', 'year', 'dong', 'apart_name', 'month', 'day', 'size', 'region_code', 'floor']\n",
    "choongchung_df.head()"
   ]
  },
  {
   "cell_type": "code",
   "execution_count": null,
   "metadata": {
    "ExecuteTime": {
     "end_time": "2020-10-28T08:34:04.556228Z",
     "start_time": "2020-10-28T08:34:04.452221Z"
    }
   },
   "outputs": [],
   "source": [
    "numbering_apartment_index = choongchung_df[choongchung_df['apart_name'].str.contains('1028-0|408-7|458-0|543-18|1122-0|1088-1')].index\n",
    "print('지번으로 등록된 아파트 이름의 인덱스', numbering_apartment_index.values)\n",
    "\n",
    "choongchung_df.drop(numbering_apartment_index, axis = 0, inplace = True)\n",
    "choongchung_df.shape"
   ]
  },
  {
   "cell_type": "code",
   "execution_count": null,
   "metadata": {},
   "outputs": [],
   "source": [
    "### 트리 계열의 ML 알고리즘은 숫자의 서열 특성을 반영하지 않으므로 문자열에 속한 피쳐 데이터들을 레이블 인코딩으로 변환"
   ]
  },
  {
   "cell_type": "code",
   "execution_count": null,
   "metadata": {
    "ExecuteTime": {
     "end_time": "2020-10-28T08:54:42.201050Z",
     "start_time": "2020-10-28T08:54:42.166048Z"
    }
   },
   "outputs": [],
   "source": [
    "from sklearn.preprocessing import LabelEncoder\n",
    "\n",
    "categories = choongchung_df['dong'].values\n",
    "\n",
    "encoder = LabelEncoder()\n",
    "encoder.fit(categories)\n",
    "labels = encoder.transform(categories)\n",
    "choongchung_df['dong'] = labels\n",
    "    \n",
    "x_features = choongchung_df.drop('trade', axis = 1, inplace = False)\n",
    "y_target = choongchung_df['trade']\n",
    "\n",
    "x_features"
   ]
  },
  {
   "cell_type": "code",
   "execution_count": null,
   "metadata": {
    "ExecuteTime": {
     "end_time": "2020-10-28T08:54:51.801749Z",
     "start_time": "2020-10-28T08:54:51.796747Z"
    }
   },
   "outputs": [],
   "source": [
    "from sklearn.model_selection import GridSearchCV\n",
    "\n",
    "def print_best_params(model, params) :\n",
    "    grid_model = GridSearchCV(model, param_grid = params, scoring = 'neg_mean_squared_error', cv = 5)\n",
    "    \n",
    "    grid_model.fit(x_features, y_target)\n",
    "    rmse = np.sqrt(-1 * grid_model.best_score_)\n",
    "    print('{0} 5 CV시 최적 평균 RMSE 값 :{1}, 최적 ALPHA:{2}' .format(model.__class__.__name__, np.round(rmse, 4)\n",
    "                                                              , grid_model.best_params_))"
   ]
  },
  {
   "cell_type": "code",
   "execution_count": null,
   "metadata": {
    "ExecuteTime": {
     "end_time": "2020-10-28T09:50:12.310642Z",
     "start_time": "2020-10-28T09:08:25.762176Z"
    }
   },
   "outputs": [],
   "source": [
    "from xgboost import XGBRegressor\n",
    "from lightgbm import LGBMRegressor\n",
    "\n",
    "lightgbm_params = {'n_estimators' : [10000, 20000, 30000, 40000, 50000]}\n",
    "lightgbm_reg = LGBMRegressor(n_estimators=1000, learning_rate= 0.1, colsample_bytree = 0.5, subsample = 0.8)\n",
    "print_best_params(lightgbm_reg, lightgbm_params)"
   ]
  },
  {
   "cell_type": "markdown",
   "metadata": {},
   "source": [
    "## 정리"
   ]
  },
  {
   "cell_type": "markdown",
   "metadata": {},
   "source": [
    "#### 이미 타깃 데이터인 거래금액이 로그 변환 됐기 때문에 예측값도 이를 반영한 로그 변환 값이므로 \n",
    "#### 예측 결과 오류에 RMSE만 적용하면 RMSLE가 자동적으로 측정된다."
   ]
  },
  {
   "cell_type": "code",
   "execution_count": null,
   "metadata": {},
   "outputs": [],
   "source": [
    "# # 시험 데이터 코드 함수로 구현\n",
    "# def get_rmse(model) : \n",
    "#     pred = model.predict(x_test)\n",
    "#     mse = mean_squared_error(y_test, pred)\n",
    "#     rmse = np.sqrt(mse)\n",
    "#     print(model.__class__.__name__, ' 로그 변환된 RMSE(RMSLE):', np.round(rmse, 2))\n",
    "#     return rmse\n",
    "\n",
    "# def get_rmses(models) :\n",
    "#     rmses = list()\n",
    "#     for model in models :\n",
    "#         rmse = get_rmse(model)\n",
    "#         rmses.append(rmse)\n",
    "#     return rmses"
   ]
  },
  {
   "cell_type": "code",
   "execution_count": null,
   "metadata": {},
   "outputs": [],
   "source": [
    "# from sklearn.linear_model import LinearRegression, Ridge, Lasso\n",
    "# from sklearn.model_selection import train_test_split\n",
    "# from sklearn.metrics import mean_squared_error, mean_absolute_error\n",
    "\n",
    "# y_target = choongchung_df['거래금액']\n",
    "# x_features = choongchung_df_ohe.drop('거래금액', axis = 1, inplace = False)\n",
    "# x_train, x_test, y_train, y_test = train_test_split(x_features, y_target, test_size = 0.3)\n",
    "\n",
    "# #LinearRegression, Ridge, Lasso\n",
    "# lr_reg = LinearRegression()\n",
    "# lr_reg.fit(x_train, y_train)\n",
    "\n",
    "# ridge_reg = Ridge()\n",
    "# ridge_reg.fit(x_train, y_train)\n",
    "\n",
    "# lasso_reg = Lasso()\n",
    "# lasso_reg.fit(x_train, y_train)\n",
    "\n",
    "# models = [lr_reg, ridge_reg, lasso_reg]\n",
    "# get_rmses(models)"
   ]
  },
  {
   "cell_type": "markdown",
   "metadata": {},
   "source": [
    "### 피처별 회귀 계수를 시각화하여 모델별로 피처들의 회귀계수 확인"
   ]
  },
  {
   "cell_type": "code",
   "execution_count": null,
   "metadata": {},
   "outputs": [],
   "source": [
    "# def get_coef_top_bottom_coef(model, n = 10) :\n",
    "#     # coef_ 속성을 기반으로 Series 객체를 생성합니다. \n",
    "#     coef = pd.Series(model.coef_, index = x_features.columns)\n",
    "    \n",
    "    \n",
    "#     coef_high = coef.sort_values(ascending = False).head(n)\n",
    "#     coef_low = coef.sort_values(ascending = False).tail(n)\n",
    "    \n",
    "#     return coef_high, coef_low"
   ]
  },
  {
   "cell_type": "code",
   "execution_count": null,
   "metadata": {},
   "outputs": [],
   "source": [
    "# def visualize_coefficient(models) :\n",
    "#     # 3개의 회귀 모델의 시각화를 위해 3개의 칼럼을 가지는 subplot 생성 \n",
    "#     fig, axs = plt.subplots(figsize = (24, 10), nrows = 1, ncols = 3)\n",
    "#     fig.tight_layout()\n",
    "    \n",
    "#     # 입력 인자로 받은 list 객체인 models에서 차례로 model을 추출하여 회귀 계수 시각화.\n",
    "#     for i_num, model in enumerate(models) :\n",
    "#         coef_high, coef_low = get_coef_top_bottom_coef(model)\n",
    "#         coef_concat = pd.concat([coef_high, coef_low])\n",
    "        \n",
    "#         #ax subplot에 barchar로 표현. 한 화면에 표현하기 위해 tick label 위치와 font 크기 조정. \n",
    "#         axs[i_num].set_title(model.__class__.__name__ +' Coefficient', size = 25)\n",
    "#         axs[i_num].tick_params(axis = 'y', direction = 'in', pad = -120)\n",
    "#         for label in (axs[i_num].get_xticklabels() + axs[i_num].get_yticklabels()) :\n",
    "#             label.set_fontsize(22)\n",
    "#         sns.barplot(x=coef_concat.values, y = coef_concat.index, ax = axs[i_num])"
   ]
  },
  {
   "cell_type": "code",
   "execution_count": null,
   "metadata": {},
   "outputs": [],
   "source": [
    "# # 앞 예제에서 학습한 lr_reg, ridge_reg, lasso_reg 모델 회귀 계수 시각화. \n",
    "# models = [lr_reg, ridge_reg, lasso_reg]\n",
    "# visualize_coefficient(models)"
   ]
  },
  {
   "cell_type": "markdown",
   "metadata": {},
   "source": [
    "## 5 folds 교차 검증"
   ]
  },
  {
   "cell_type": "code",
   "execution_count": null,
   "metadata": {},
   "outputs": [],
   "source": [
    "# from sklearn.model_selection import cross_val_score \n",
    "\n",
    "# def get_avg_rmse_cv(models) :\n",
    "    \n",
    "#     for model in models :\n",
    "#         # 분할하지 않고 전체 데이터로 cross_val_score() 수행. 모델별 CV RMSE 값과 평균 RMSE 출력 \n",
    "#         rmse_list = np.sqrt(-cross_val_score(model, x_features, y_target, scoring = 'neg_mean_squared_error', cv = 5))\n",
    "        \n",
    "#         rmse_avg = np.mean(rmse_list)\n",
    "#         print('\\n{0} CV RMSE 값 리스트 : {1}' .format(model.__class__.__name__, np.round(rmse_list, 3)))\n",
    "#         print('{0} CV 평균 RMSE 값 : {1}' .format(model.__class__.__name__, np.round(rmse_avg, 3)))\n",
    "#         print('{0} CV 평균 RMSE 값 : {1}' .format(model.__class__.__name__, np.round(rmse_avg, 3)))"
   ]
  },
  {
   "cell_type": "code",
   "execution_count": null,
   "metadata": {
    "scrolled": true
   },
   "outputs": [],
   "source": [
    "# models = [lr_reg, ridge_reg, lasso_reg]\n",
    "# get_avg_rmse_cv(models)"
   ]
  },
  {
   "cell_type": "markdown",
   "metadata": {},
   "source": [
    "### GridSearchCV를 이용해 알파값의 하이퍼 파라미터를 변화시키면서 Ridge와 Lasso의 최적 알파값 도출"
   ]
  },
  {
   "cell_type": "code",
   "execution_count": null,
   "metadata": {},
   "outputs": [],
   "source": [
    "# from sklearn.model_selection import GridSearchCV\n",
    "\n",
    "# def print_best_params(model, params) :\n",
    "#     grid_model = GridSearchCV(model, param_grid = params, scoring = 'neg_mean_squared_error', cv = 5)\n",
    "#     grid_model.fit(x_features, y_target)\n",
    "#     rmse = np.sqrt(-1 * grid_model.best_score_)\n",
    "#     print('{0} 5 CV 시 최적 평균 RMSE 값 : {1}, 최적 alpha : {2}' .format(model.__class__.__name__, \n",
    "#                                                                  np.round(rmse, 4), grid_model.best_params_))\n",
    "\n",
    "# ridge_params = {'alpha' : [0.05, 0.1, 1, 5, 8, 10, 12, 15, 20]}\n",
    "# lasso_params = {'alpha' : [0.001, 0.005, 0.008, 0.05, 0.03, 0.1, 0.5, 1, 5, 10]}\n",
    "# print_best_params(ridge_reg, ridge_params)\n",
    "# print_best_params(lasso_reg, lasso_params)"
   ]
  },
  {
   "cell_type": "markdown",
   "metadata": {},
   "source": [
    "### 앞의 최적화 알파 값으로 학습 데이터로 학습, 테스트 데이터로 예측 및 평가를 수행한다."
   ]
  },
  {
   "cell_type": "code",
   "execution_count": null,
   "metadata": {},
   "outputs": [],
   "source": [
    "# lr_reg = LinearRegression()\n",
    "# lr_reg.fit(x_train, y_train)\n",
    "\n",
    "# ridge_reg = Ridge(alpha = 1)\n",
    "# ridge_reg.fit(x_train, y_train)\n",
    "\n",
    "# lasso_reg = Lasso(alpha = 0.001)\n",
    "# lasso_reg.fit(x_train, y_train)\n",
    "\n",
    "# models = [lr_reg, ridge_reg, lasso_reg]\n",
    "# get_rmses(models)\n",
    "\n",
    "# models = [lr_reg, ridge_reg, lasso_reg]\n",
    "# visualize_coefficient(models)"
   ]
  },
  {
   "cell_type": "code",
   "execution_count": null,
   "metadata": {},
   "outputs": [],
   "source": [
    "# choongchung_df.head()"
   ]
  },
  {
   "cell_type": "code",
   "execution_count": null,
   "metadata": {},
   "outputs": [],
   "source": [
    "# y_test"
   ]
  },
  {
   "cell_type": "code",
   "execution_count": null,
   "metadata": {},
   "outputs": [],
   "source": [
    "# choongchung_df_ohe.head()"
   ]
  }
 ],
 "metadata": {
  "kernelspec": {
   "display_name": "Python 3",
   "language": "python",
   "name": "python3"
  },
  "language_info": {
   "codemirror_mode": {
    "name": "ipython",
    "version": 3
   },
   "file_extension": ".py",
   "mimetype": "text/x-python",
   "name": "python",
   "nbconvert_exporter": "python",
   "pygments_lexer": "ipython3",
   "version": "3.8.3"
  }
 },
 "nbformat": 4,
 "nbformat_minor": 4
}
